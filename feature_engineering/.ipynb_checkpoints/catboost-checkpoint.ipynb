{
 "cells": [
  {
   "cell_type": "code",
   "execution_count": 1,
   "metadata": {},
   "outputs": [],
   "source": [
    "import numpy as np\n",
    "import pandas as pd\n",
    "import os\n",
    "import random\n",
    "\n",
    "from catboost import CatBoostClassifier, Pool"
   ]
  },
  {
   "cell_type": "code",
   "execution_count": 2,
   "metadata": {},
   "outputs": [],
   "source": [
    "input_path = '../datasets/'\n",
    "train_df = pd.read_csv('../output/train_df.csv')\n",
    "test_X = pd.read_csv('../output/test_df.csv')\n",
    "test_df = pd.read_csv(os.path.join(input_path, 'test.csv'))\n",
    "\n",
    "train_Y = pd.read_csv('../output/train_Y.csv')"
   ]
  },
  {
   "cell_type": "code",
   "execution_count": 3,
   "metadata": {},
   "outputs": [],
   "source": [
    "SEED = 1 # 1,2,3,4,5\n",
    "\n",
    "target_category = [38, 110, 113, 114, 134, 171, 172, 173, 376, 435, 467, 537, 539, 629, 768]\n",
    "target_category_str = [str(col) for col in target_category]"
   ]
  },
  {
   "cell_type": "code",
   "execution_count": 4,
   "metadata": {},
   "outputs": [],
   "source": [
    "feature_cols = ['age', 'gender', 'hour', 'weekday', 'jp_holiday', 'tgif', 'num_visit', 'month', 'day', 'register_number', 'max_time_avg', 'time_elapsed', 'hanakin', '38_avg', '110_avg', '113_avg', '114_avg', '134_avg', '171_avg', '172_avg', '173_avg', '376_avg', '435_avg', '467_avg', '537_avg', '539_avg', '629_avg', '768_avg', '38_given', '110_given', '113_given', '114_given', '134_given', '171_given', '172_given', '173_given', '376_given', '435_given', '467_given', '537_given', '539_given', '629_given', '768_given', '38_price_avg', '110_price_avg', '113_price_avg', '114_price_avg', '134_price_avg', '171_price_avg', '172_price_avg', '173_price_avg', '376_price_avg', '435_price_avg', '467_price_avg', '537_price_avg', '539_price_avg', '629_price_avg', '768_price_avg', 'child_items_sum', 'child_items_avg', 'child_items', '1_depart_avg', '2_depart_avg', '3_depart_avg', '4_depart_avg', '5_depart_avg', '7_depart_avg', '9_depart_avg', '10_depart_avg', '13_depart_avg', '14_depart_avg', '15_depart_avg', '16_depart_avg', '18_depart_avg', '19_depart_avg', '20_depart_avg', '21_depart_avg', '22_depart_avg', '23_depart_avg', '24_depart_avg', '25_depart_avg', '26_depart_avg', '27_depart_avg', '28_depart_avg', '29_depart_avg', '30_depart_avg', '32_depart_avg', '33_depart_avg', '34_depart_avg', '35_depart_avg', '36_depart_avg', '37_depart_avg', '38_depart_avg', '39_depart_avg', '40_depart_avg', '41_depart_avg', '46_depart_avg', '47_depart_avg', '49_depart_avg', '50_depart_avg', '58_depart_avg', '59_depart_avg', '60_depart_avg', '69_depart_avg', '70_depart_avg', '71_depart_avg', '72_depart_avg', '73_depart_avg', '74_depart_avg', '75_depart_avg', '77_depart_avg', '78_depart_avg', '79_depart_avg', '80_depart_avg', '81_depart_avg', '82_depart_avg', '83_depart_avg', '84_depart_avg', '87_depart_avg', '88_depart_avg', '89_depart_avg', '91_depart_avg', '92_depart_avg', '93_depart_avg', '94_depart_avg', '95_depart_avg', '96_depart_avg', '97_depart_avg', '98_depart_avg', '106_depart_avg', '107_depart_avg', '109_depart_avg', '117_depart_avg', '118_depart_avg', '121_depart_avg', '124_depart_avg', '131_depart_avg', '132_depart_avg', '133_depart_avg', '136_depart_avg', '137_depart_avg', '138_depart_avg', '141_depart_avg', '151_depart_avg', '152_depart_avg', '153_depart_avg', '154_depart_avg', '155_depart_avg', '156_depart_avg', '161_depart_avg', '162_depart_avg', '163_depart_avg', '165_depart_avg', '172_depart_avg', '173_depart_avg', '174_depart_avg', '178_depart_avg', '179_depart_avg', '182_depart_avg', '183_depart_avg', '185_depart_avg', '187_depart_avg', '194_depart_avg', '201_depart_avg', '202_depart_avg', '203_depart_avg', '206_depart_avg', '207_depart_avg', '210_depart_avg', '214_depart_avg', '215_depart_avg', '217_depart_avg', '219_depart_avg', '220_depart_avg', '221_depart_avg', '223_depart_avg', '224_depart_avg', '225_depart_avg', '226_depart_avg', '227_depart_avg', '228_depart_avg', '229_depart_avg', '230_depart_avg', '231_depart_avg', '232_depart_avg', '233_depart_avg', '234_depart_avg', 'cancel_items_sum', 'cancel_items_avg', 'buy_num_items_sum', 'buy_num_items_avg', 'given_buy_num', 'cancel10_items_sum', 'cancel10_items_avg', 'alone_items_sum', 'alone_items_avg', 'alone_items', 'cook_items_sum', 'cook_items_avg', 'cook_items', 'qoupon_avg', 'avg_qoupon', 'category_35_avg', 'category_37_avg', 'category_39_avg', 'category_40_avg', 'category_86_avg', 'category_111_avg', 'category_112_avg', 'category_135_avg', 'category_137_avg', 'category_141_avg', 'category_142_avg', 'category_143_avg', 'category_145_avg', 'category_148_avg', 'category_149_avg', 'category_150_avg', 'category_205_avg', 'category_206_avg', 'category_207_avg', 'category_208_avg', 'category_209_avg', 'category_210_avg', 'category_274_avg', 'category_275_avg', 'category_276_avg', 'category_289_avg', 'category_307_avg', 'category_310_avg', 'category_311_avg', 'category_312_avg', 'category_313_avg', 'category_316_avg', 'category_317_avg', 'category_319_avg', 'category_321_avg', 'category_328_avg', 'category_334_avg', 'category_340_avg', 'category_341_avg', 'category_342_avg', 'category_343_avg', 'category_344_avg', 'category_363_avg', 'category_365_avg', 'category_368_avg', 'category_370_avg', 'category_371_avg', 'category_372_avg', 'category_373_avg', 'category_374_avg', 'category_375_avg', 'category_376_avg', 'category_377_avg', 'category_378_avg', 'category_391_avg', 'category_392_avg', 'category_406_avg', 'category_407_avg', 'category_408_avg', 'category_410_avg', 'category_411_avg', 'category_414_avg', 'category_415_avg', 'category_416_avg', 'category_417_avg', 'category_420_avg', 'category_421_avg', 'category_422_avg', 'category_423_avg', 'category_424_avg', 'category_425_avg', 'category_426_avg', 'category_431_avg', 'category_432_avg', 'category_433_avg', 'category_436_avg', 'category_469_avg', 'category_470_avg', 'category_471_avg', 'category_472_avg', 'category_473_avg', 'category_474_avg', 'category_508_avg', 'category_509_avg', 'category_536_avg', 'category_538_avg', 'category_561_avg', 'category_562_avg', 'category_565_avg', 'category_566_avg', 'category_567_avg', 'category_568_avg', 'category_579_avg', 'category_587_avg', 'category_588_avg', 'category_589_avg', 'category_590_avg', 'category_591_avg', 'category_594_avg', 'category_602_avg', 'category_617_avg', 'category_619_avg', 'category_620_avg', 'category_621_avg', 'category_623_avg', 'category_628_avg', 'category_630_avg', 'category_631_avg', 'category_632_avg', 'category_633_avg', 'category_634_avg', 'category_636_avg', 'category_655_avg', 'category_665_avg', 'category_666_avg', 'category_669_avg', 'category_674_avg', 'category_679_avg', 'category_684_avg', 'category_708_avg', 'category_711_avg', 'category_716_avg', 'category_720_avg', 'category_724_avg', 'category_769_avg', 'category_770_avg', 'category_771_avg', 'similar_110_avg', 'similar_113_avg', 'similar_114_avg', 'similar_134_avg', 'similar_171_avg', 'similar_172_avg', 'similar_173_avg', 'similar_376_avg', 'similar_38_avg', 'similar_435_avg', 'similar_467_avg', 'similar_537_avg', 'similar_539_avg', 'similar_629_avg', 'similar_768_avg', 'category_35_given', 'category_37_given', 'category_39_given', 'category_40_given', 'category_86_given', 'category_111_given', 'category_112_given', 'category_135_given', 'category_136_given', 'category_137_given', 'category_141_given', 'category_142_given', 'category_143_given', 'category_145_given', 'category_148_given', 'category_149_given', 'category_150_given', 'category_205_given', 'category_206_given', 'category_207_given', 'category_208_given', 'category_209_given', 'category_210_given', 'category_274_given', 'category_275_given', 'category_276_given', 'category_289_given', 'category_294_given', 'category_295_given', 'category_299_given', 'category_307_given', 'category_310_given', 'category_311_given', 'category_312_given', 'category_313_given', 'category_314_given', 'category_315_given', 'category_316_given', 'category_317_given', 'category_319_given', 'category_321_given', 'category_328_given', 'category_330_given', 'category_331_given', 'category_334_given', 'category_340_given', 'category_341_given', 'category_342_given', 'category_343_given', 'category_344_given', 'category_346_given', 'category_363_given', 'category_365_given', 'category_366_given', 'category_367_given', 'category_368_given', 'category_370_given', 'category_371_given', 'category_372_given', 'category_373_given', 'category_374_given', 'category_375_given', 'category_376_given', 'category_377_given', 'category_378_given', 'category_391_given', 'category_392_given', 'category_393_given', 'category_406_given', 'category_407_given', 'category_408_given', 'category_410_given', 'category_411_given', 'category_414_given', 'category_415_given', 'category_416_given', 'category_417_given', 'category_418_given', 'category_420_given', 'category_421_given', 'category_422_given', 'category_423_given', 'category_424_given', 'category_425_given', 'category_426_given', 'category_430_given', 'category_431_given', 'category_432_given', 'category_433_given', 'category_434_given', 'category_436_given', 'category_468_given', 'category_469_given', 'category_470_given', 'category_471_given', 'category_472_given', 'category_473_given', 'category_474_given', 'category_508_given', 'category_509_given', 'category_510_given', 'category_536_given', 'category_538_given', 'category_546_given', 'category_547_given', 'category_548_given', 'category_561_given', 'category_562_given', 'category_565_given', 'category_566_given', 'category_567_given', 'category_568_given', 'category_569_given', 'category_579_given', 'category_587_given', 'category_588_given', 'category_589_given', 'category_590_given', 'category_591_given', 'category_594_given', 'category_602_given', 'category_613_given', 'category_615_given', 'category_616_given', 'category_617_given', 'category_619_given', 'category_620_given', 'category_623_given', 'category_628_given', 'category_630_given', 'category_631_given', 'category_632_given', 'category_633_given', 'category_634_given', 'category_635_given', 'category_636_given', 'category_655_given', 'category_662_given', 'category_665_given', 'category_666_given', 'category_667_given', 'category_669_given', 'category_674_given', 'category_679_given', 'category_684_given', 'category_696_given', 'category_708_given', 'category_711_given', 'category_716_given', 'category_720_given', 'category_724_given', 'category_726_given', 'category_756_given', 'category_769_given', 'category_770_given', 'category_771_given', 'similar_110_given', 'similar_113_given', 'similar_114_given', 'similar_134_given', 'similar_171_given', 'similar_172_given', 'similar_173_given', 'similar_376_given', 'similar_38_given', 'similar_435_given', 'similar_467_given', 'similar_537_given', 'similar_539_given', 'similar_629_given', 'similar_768_given']"
   ]
  },
  {
   "cell_type": "code",
   "execution_count": 5,
   "metadata": {},
   "outputs": [],
   "source": [
    "params = {\n",
    "    'learning_rate': 0.07,\n",
    "    'eval_metric': 'AUC',\n",
    "    'loss_function': 'Logloss',\n",
    "    'metric_period': 500,\n",
    "    'od_wait': 500,\n",
    "    'iterations': 2500,\n",
    "    'depth': 8,\n",
    "    'random_seed': SEED\n",
    "}\n",
    "\n",
    "\n",
    "params2 = params.copy()"
   ]
  },
  {
   "cell_type": "code",
   "execution_count": null,
   "metadata": {
    "scrolled": true
   },
   "outputs": [
    {
     "name": "stdout",
     "output_type": "stream",
     "text": [
      "****************************************************************************************************\n",
      "****************************************************************************************************\n",
      "38 30544 374281\n",
      "train & valid:  73305 18327\n"
     ]
    },
    {
     "name": "stderr",
     "output_type": "stream",
     "text": [
      "Warning: Overfitting detector is active, thus evaluation metric is calculated on every iteration. 'metric_period' is ignored for evaluation metric.\n"
     ]
    },
    {
     "name": "stdout",
     "output_type": "stream",
     "text": [
      "0:\ttest: 0.7597798\tbest: 0.7597798 (0)\ttotal: 226ms\tremaining: 9m 25s\n",
      "500:\ttest: 0.7893162\tbest: 0.7920406 (209)\ttotal: 44.4s\tremaining: 2m 57s\n",
      "Stopped by overfitting detector  (500 iterations wait)\n",
      "\n",
      "bestTest = 0.7920405774\n",
      "bestIteration = 209\n",
      "\n",
      "Shrink model to first 210 iterations.\n",
      "----------------------------------------------------------------------------------------------------\n"
     ]
    },
    {
     "name": "stderr",
     "output_type": "stream",
     "text": [
      "You should provide test set for use best model. use_best_model parameter has been switched to false value.\n"
     ]
    },
    {
     "name": "stdout",
     "output_type": "stream",
     "text": [
      "0:\ttotal: 195ms\tremaining: 40.6s\n",
      "208:\ttotal: 20.7s\tremaining: 0us\n",
      "****************************************************************************************************\n",
      "****************************************************************************************************\n",
      "110 5730 399095\n",
      "train & valid:  13752 3438\n"
     ]
    },
    {
     "name": "stderr",
     "output_type": "stream",
     "text": [
      "Warning: Overfitting detector is active, thus evaluation metric is calculated on every iteration. 'metric_period' is ignored for evaluation metric.\n"
     ]
    },
    {
     "name": "stdout",
     "output_type": "stream",
     "text": [
      "0:\ttest: 0.7147774\tbest: 0.7147774 (0)\ttotal: 141ms\tremaining: 5m 52s\n",
      "500:\ttest: 0.7826949\tbest: 0.7888265 (103)\ttotal: 31.1s\tremaining: 2m 3s\n",
      "Stopped by overfitting detector  (500 iterations wait)\n",
      "\n",
      "bestTest = 0.7888264788\n",
      "bestIteration = 103\n",
      "\n",
      "Shrink model to first 104 iterations.\n",
      "----------------------------------------------------------------------------------------------------\n"
     ]
    },
    {
     "name": "stderr",
     "output_type": "stream",
     "text": [
      "You should provide test set for use best model. use_best_model parameter has been switched to false value.\n"
     ]
    },
    {
     "name": "stdout",
     "output_type": "stream",
     "text": [
      "0:\ttotal: 127ms\tremaining: 12.9s\n",
      "102:\ttotal: 6.64s\tremaining: 0us\n",
      "****************************************************************************************************\n",
      "****************************************************************************************************\n",
      "113 14570 390255\n",
      "train & valid:  34968 8742\n"
     ]
    },
    {
     "name": "stderr",
     "output_type": "stream",
     "text": [
      "Warning: Overfitting detector is active, thus evaluation metric is calculated on every iteration. 'metric_period' is ignored for evaluation metric.\n"
     ]
    },
    {
     "name": "stdout",
     "output_type": "stream",
     "text": [
      "0:\ttest: 0.7510486\tbest: 0.7510486 (0)\ttotal: 142ms\tremaining: 5m 55s\n",
      "500:\ttest: 0.7861246\tbest: 0.7913625 (170)\ttotal: 35.4s\tremaining: 2m 21s\n",
      "Stopped by overfitting detector  (500 iterations wait)\n",
      "\n",
      "bestTest = 0.7913624912\n",
      "bestIteration = 170\n",
      "\n",
      "Shrink model to first 171 iterations.\n",
      "----------------------------------------------------------------------------------------------------\n"
     ]
    },
    {
     "name": "stderr",
     "output_type": "stream",
     "text": [
      "You should provide test set for use best model. use_best_model parameter has been switched to false value.\n"
     ]
    },
    {
     "name": "stdout",
     "output_type": "stream",
     "text": [
      "0:\ttotal: 172ms\tremaining: 29s\n",
      "169:\ttotal: 13s\tremaining: 0us\n",
      "****************************************************************************************************\n",
      "****************************************************************************************************\n",
      "114 79493 325332\n",
      "train & valid:  190783 47696\n"
     ]
    },
    {
     "name": "stderr",
     "output_type": "stream",
     "text": [
      "Warning: Overfitting detector is active, thus evaluation metric is calculated on every iteration. 'metric_period' is ignored for evaluation metric.\n"
     ]
    },
    {
     "name": "stdout",
     "output_type": "stream",
     "text": [
      "0:\ttest: 0.7257688\tbest: 0.7257688 (0)\ttotal: 202ms\tremaining: 8m 25s\n",
      "500:\ttest: 0.7571248\tbest: 0.7571420 (489)\ttotal: 1m 3s\tremaining: 4m 14s\n",
      "1000:\ttest: 0.7571512\tbest: 0.7576275 (784)\ttotal: 2m 5s\tremaining: 3m 8s\n",
      "Stopped by overfitting detector  (500 iterations wait)\n",
      "\n",
      "bestTest = 0.7576274637\n",
      "bestIteration = 784\n",
      "\n",
      "Shrink model to first 785 iterations.\n",
      "----------------------------------------------------------------------------------------------------\n"
     ]
    },
    {
     "name": "stderr",
     "output_type": "stream",
     "text": [
      "You should provide test set for use best model. use_best_model parameter has been switched to false value.\n"
     ]
    },
    {
     "name": "stdout",
     "output_type": "stream",
     "text": [
      "0:\ttotal: 395ms\tremaining: 5m 8s\n",
      "500:\ttotal: 1m 13s\tremaining: 41.7s\n",
      "783:\ttotal: 1m 53s\tremaining: 0us\n",
      "****************************************************************************************************\n",
      "****************************************************************************************************\n",
      "134 54040 350785\n",
      "train & valid:  129696 32424\n"
     ]
    },
    {
     "name": "stderr",
     "output_type": "stream",
     "text": [
      "Warning: Overfitting detector is active, thus evaluation metric is calculated on every iteration. 'metric_period' is ignored for evaluation metric.\n"
     ]
    },
    {
     "name": "stdout",
     "output_type": "stream",
     "text": [
      "0:\ttest: 0.7151874\tbest: 0.7151874 (0)\ttotal: 168ms\tremaining: 6m 59s\n",
      "500:\ttest: 0.7398898\tbest: 0.7400214 (344)\ttotal: 53.8s\tremaining: 3m 34s\n",
      "Stopped by overfitting detector  (500 iterations wait)\n",
      "\n",
      "bestTest = 0.7400213903\n",
      "bestIteration = 344\n",
      "\n",
      "Shrink model to first 345 iterations.\n",
      "----------------------------------------------------------------------------------------------------\n"
     ]
    },
    {
     "name": "stderr",
     "output_type": "stream",
     "text": [
      "You should provide test set for use best model. use_best_model parameter has been switched to false value.\n"
     ]
    },
    {
     "name": "stdout",
     "output_type": "stream",
     "text": [
      "0:\ttotal: 180ms\tremaining: 1m 1s\n",
      "343:\ttotal: 41s\tremaining: 0us\n",
      "****************************************************************************************************\n",
      "****************************************************************************************************\n",
      "171 34143 370682\n",
      "train & valid:  81943 20486\n"
     ]
    },
    {
     "name": "stderr",
     "output_type": "stream",
     "text": [
      "Warning: Overfitting detector is active, thus evaluation metric is calculated on every iteration. 'metric_period' is ignored for evaluation metric.\n"
     ]
    },
    {
     "name": "stdout",
     "output_type": "stream",
     "text": [
      "0:\ttest: 0.7910851\tbest: 0.7910851 (0)\ttotal: 199ms\tremaining: 8m 16s\n",
      "500:\ttest: 0.8508355\tbest: 0.8509737 (364)\ttotal: 44.8s\tremaining: 2m 58s\n",
      "Stopped by overfitting detector  (500 iterations wait)\n",
      "\n",
      "bestTest = 0.8509737346\n",
      "bestIteration = 364\n",
      "\n",
      "Shrink model to first 365 iterations.\n",
      "----------------------------------------------------------------------------------------------------\n"
     ]
    },
    {
     "name": "stderr",
     "output_type": "stream",
     "text": [
      "You should provide test set for use best model. use_best_model parameter has been switched to false value.\n"
     ]
    },
    {
     "name": "stdout",
     "output_type": "stream",
     "text": [
      "0:\ttotal: 177ms\tremaining: 1m 4s\n",
      "363:\ttotal: 35.2s\tremaining: 0us\n",
      "****************************************************************************************************\n",
      "****************************************************************************************************\n",
      "172 7488 397337\n",
      "train & valid:  17971 4493\n"
     ]
    },
    {
     "name": "stderr",
     "output_type": "stream",
     "text": [
      "Warning: Overfitting detector is active, thus evaluation metric is calculated on every iteration. 'metric_period' is ignored for evaluation metric.\n"
     ]
    },
    {
     "name": "stdout",
     "output_type": "stream",
     "text": [
      "0:\ttest: 0.8415042\tbest: 0.8415042 (0)\ttotal: 159ms\tremaining: 6m 38s\n",
      "500:\ttest: 0.8700591\tbest: 0.8742895 (55)\ttotal: 31.5s\tremaining: 2m 5s\n",
      "Stopped by overfitting detector  (500 iterations wait)\n",
      "\n",
      "bestTest = 0.8742895069\n",
      "bestIteration = 55\n",
      "\n",
      "Shrink model to first 56 iterations.\n",
      "----------------------------------------------------------------------------------------------------\n"
     ]
    },
    {
     "name": "stderr",
     "output_type": "stream",
     "text": [
      "You should provide test set for use best model. use_best_model parameter has been switched to false value.\n"
     ]
    },
    {
     "name": "stdout",
     "output_type": "stream",
     "text": [
      "0:\ttotal: 124ms\tremaining: 6.71s\n",
      "54:\ttotal: 3.69s\tremaining: 0us\n",
      "****************************************************************************************************\n",
      "****************************************************************************************************\n",
      "173 39113 365712\n",
      "train & valid:  93871 23468\n"
     ]
    },
    {
     "name": "stderr",
     "output_type": "stream",
     "text": [
      "Warning: Overfitting detector is active, thus evaluation metric is calculated on every iteration. 'metric_period' is ignored for evaluation metric.\n"
     ]
    },
    {
     "name": "stdout",
     "output_type": "stream",
     "text": [
      "0:\ttest: 0.8259071\tbest: 0.8259071 (0)\ttotal: 151ms\tremaining: 6m 16s\n",
      "500:\ttest: 0.8560670\tbest: 0.8563508 (344)\ttotal: 47.1s\tremaining: 3m 7s\n",
      "Stopped by overfitting detector  (500 iterations wait)\n",
      "\n",
      "bestTest = 0.8563507865\n",
      "bestIteration = 344\n",
      "\n",
      "Shrink model to first 345 iterations.\n",
      "----------------------------------------------------------------------------------------------------\n"
     ]
    },
    {
     "name": "stderr",
     "output_type": "stream",
     "text": [
      "You should provide test set for use best model. use_best_model parameter has been switched to false value.\n"
     ]
    },
    {
     "name": "stdout",
     "output_type": "stream",
     "text": [
      "0:\ttotal: 195ms\tremaining: 1m 6s\n",
      "343:\ttotal: 35.2s\tremaining: 0us\n",
      "****************************************************************************************************\n",
      "****************************************************************************************************\n",
      "376 34444 370381\n",
      "train & valid:  82665 20667\n"
     ]
    },
    {
     "name": "stderr",
     "output_type": "stream",
     "text": [
      "Warning: Overfitting detector is active, thus evaluation metric is calculated on every iteration. 'metric_period' is ignored for evaluation metric.\n"
     ]
    },
    {
     "name": "stdout",
     "output_type": "stream",
     "text": [
      "0:\ttest: 0.7378212\tbest: 0.7378212 (0)\ttotal: 153ms\tremaining: 6m 22s\n",
      "500:\ttest: 0.7569278\tbest: 0.7603605 (159)\ttotal: 45.2s\tremaining: 3m\n",
      "Stopped by overfitting detector  (500 iterations wait)\n",
      "\n",
      "bestTest = 0.7603604939\n",
      "bestIteration = 159\n",
      "\n",
      "Shrink model to first 160 iterations.\n",
      "----------------------------------------------------------------------------------------------------\n"
     ]
    },
    {
     "name": "stderr",
     "output_type": "stream",
     "text": [
      "You should provide test set for use best model. use_best_model parameter has been switched to false value.\n"
     ]
    },
    {
     "name": "stdout",
     "output_type": "stream",
     "text": [
      "0:\ttotal: 163ms\tremaining: 25.8s\n",
      "158:\ttotal: 16.4s\tremaining: 0us\n",
      "****************************************************************************************************\n",
      "****************************************************************************************************\n",
      "435 18991 385834\n",
      "train & valid:  45578 11395\n"
     ]
    },
    {
     "name": "stderr",
     "output_type": "stream",
     "text": [
      "Warning: Overfitting detector is active, thus evaluation metric is calculated on every iteration. 'metric_period' is ignored for evaluation metric.\n"
     ]
    },
    {
     "name": "stdout",
     "output_type": "stream",
     "text": [
      "0:\ttest: 0.8242547\tbest: 0.8242547 (0)\ttotal: 150ms\tremaining: 6m 15s\n"
     ]
    }
   ],
   "source": [
    "cvs = []\n",
    "models = []\n",
    "best_cv_scores = {}\n",
    "best_model_scores = {}\n",
    "\n",
    "for target_col in target_category_str:\n",
    "    print('*'*100)\n",
    "    print('*'*100)\n",
    "    true_ids = list(train_Y[train_Y[target_col]==1].session_id.unique())\n",
    "    false_ids = list(train_Y[train_Y[target_col]!=1].session_id.unique())\n",
    "    print(target_col, len(true_ids), len(false_ids))\n",
    "    \n",
    "    false_ids = random.sample(false_ids, len(true_ids) * 2) # down samplling\n",
    "    sampling_ids = true_ids + false_ids\n",
    "    sampling_ids = sorted(sampling_ids)\n",
    "    \n",
    "    train_idx = sampling_ids[: int(len(sampling_ids)*0.8)]\n",
    "    val_idx = sampling_ids[int(len(sampling_ids)*0.8): ]\n",
    "    \n",
    "    assert set(train_idx) & set(val_idx) == set()\n",
    "    train_X = train_df[train_df.session_id.isin(train_idx)]\n",
    "    train_y = train_Y[train_Y.session_id.isin(train_idx)]\n",
    "\n",
    "    valid_X = train_df[train_df.session_id.isin(val_idx)].reset_index()\n",
    "    valid_y = train_Y[train_Y.session_id.isin(val_idx)].reset_index()\n",
    "    print('train & valid: ', len(train_X), len(valid_X))\n",
    "    \n",
    "    train_set = Pool(train_X[feature_cols], label = train_y[target_col])\n",
    "    val_set = Pool(valid_X[feature_cols], label = valid_y[target_col])\n",
    "    del train_X, train_y, valid_X, valid_y\n",
    "    \n",
    "    cv = CatBoostClassifier(**params)\n",
    "    cv.fit(train_set, eval_set = val_set, use_best_model = True)\n",
    "    cvs.append(cv)\n",
    "    \n",
    "    params2['iterations'] = cv.get_best_iteration()\n",
    "    \n",
    "    print('-'*100)\n",
    "    all_train_X = train_df[train_df.session_id.isin(sampling_ids)]\n",
    "    all_train_y = train_Y[train_Y.session_id.isin(sampling_ids)]\n",
    "    all_tr_data = Pool(all_train_X[feature_cols], label = all_train_y[target_col])\n",
    "    model = CatBoostClassifier(**params2)\n",
    "    model.fit(all_tr_data, use_best_model = True)\n",
    "    \n",
    "     # _ = lgb.plot_importance(model)\n",
    "    models.append(model)\n",
    "#     del tr_data, va_data"
   ]
  },
  {
   "cell_type": "code",
   "execution_count": null,
   "metadata": {},
   "outputs": [],
   "source": [
    "cv_scores = []\n",
    "model_scores = []\n",
    "for cv, model , category in zip(cvs, models, target_category_str):\n",
    "    cv_score = cv.get_best_score()['validation']['AUC']\n",
    "    model_score = model.get_best_score()['learn']['Logloss']\n",
    "    print(category, ':', cv_score, model_score)\n",
    "    cv_scores.append(cv_score)\n",
    "    model_scores.append(model_score)\n",
    "print(sum(cv_scores) / len(cv_scores))\n",
    "print(sum(model_scores) / len(model_scores))\n"
   ]
  },
  {
   "cell_type": "code",
   "execution_count": null,
   "metadata": {},
   "outputs": [],
   "source": [
    "input_path = '../datasets/'\n",
    "test_df = pd.read_csv(os.path.join(input_path, 'test.csv'))\n",
    "\n",
    "for model, col in zip(models, target_category_str):\n",
    "    test_df[col] = model.predict_proba(test_X)[:,1]\n",
    "test_df.head()\n"
   ]
  },
  {
   "cell_type": "code",
   "execution_count": null,
   "metadata": {},
   "outputs": [],
   "source": [
    "test_df.drop('session_id', axis=1, inplace=True)"
   ]
  },
  {
   "cell_type": "code",
   "execution_count": null,
   "metadata": {},
   "outputs": [],
   "source": [
    "import datetime\n",
    "\n",
    "now = datetime.datetime.now()\n",
    "now = now.strftime(\"%m%d_%H%M\")\n",
    "# test_df.round(5).to_csv(f'../output/submission_{now}_cat.csv', index=None)\n",
    "test_df.round(5).to_csv(f'../pred/cat_{SEED}.csv', index=None)"
   ]
  },
  {
   "cell_type": "code",
   "execution_count": null,
   "metadata": {},
   "outputs": [],
   "source": []
  },
  {
   "cell_type": "code",
   "execution_count": null,
   "metadata": {},
   "outputs": [],
   "source": []
  }
 ],
 "metadata": {
  "kernelspec": {
   "display_name": "Python 3",
   "language": "python",
   "name": "python3"
  },
  "language_info": {
   "codemirror_mode": {
    "name": "ipython",
    "version": 3
   },
   "file_extension": ".py",
   "mimetype": "text/x-python",
   "name": "python",
   "nbconvert_exporter": "python",
   "pygments_lexer": "ipython3",
   "version": "3.8.3"
  }
 },
 "nbformat": 4,
 "nbformat_minor": 2
}
