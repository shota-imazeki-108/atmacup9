{
 "cells": [
  {
   "cell_type": "code",
   "execution_count": 1,
   "metadata": {},
   "outputs": [],
   "source": [
    "import numpy as np\n",
    "import pandas as pd\n",
    "import os\n",
    "import random\n",
    "random.seed(1)\n",
    "\n",
    "from tqdm import tqdm_notebook as tqdm\n",
    "\n",
    "import lightgbm as lgb"
   ]
  },
  {
   "cell_type": "code",
   "execution_count": 2,
   "metadata": {},
   "outputs": [],
   "source": [
    "input_path = '../datasets/'"
   ]
  },
  {
   "cell_type": "code",
   "execution_count": null,
   "metadata": {},
   "outputs": [],
   "source": [
    "# log_df = pd.read_csv(os.path.join(input_path, 'carlog.csv'))\n",
    "meta_df = pd.read_csv(os.path.join(input_path, 'meta.csv'))\n",
    "test_df = pd.read_csv(os.path.join(input_path, 'test.csv'))\n",
    "product_master_df = pd.read_csv(os.path.join(input_path, 'product_master.csv'))\n"
   ]
  },
  {
   "cell_type": "markdown",
   "metadata": {},
   "source": [
    "# 正解データの作成"
   ]
  },
  {
   "cell_type": "code",
   "execution_count": null,
   "metadata": {},
   "outputs": [],
   "source": [
    "is_predict = False\n",
    "\n",
    "log_df2 = pd.read_csv('../output/cart_log.csv')\n",
    "log_df2.head()"
   ]
  },
  {
   "cell_type": "markdown",
   "metadata": {},
   "source": [
    "## 購入イベントのなかったセッションのみに絞る"
   ]
  },
  {
   "cell_type": "code",
   "execution_count": null,
   "metadata": {},
   "outputs": [],
   "source": [
    "def get_not_paid_event(df):\n",
    "    print('all sessions: ', len(df.session_id.unique()))\n",
    "\n",
    "    paid_event_ids = list(df[df['is_payment']==1]['session_id'].unique())\n",
    "    print('num sessions paid: ', len(paid_event_ids))\n",
    "\n",
    "    return df[~df['session_id'].isin(paid_event_ids)]\n",
    "\n",
    "paid_event_df = get_not_paid_event(log_df2)\n",
    "print(len(paid_event_df.session_id.unique()))"
   ]
  },
  {
   "cell_type": "code",
   "execution_count": null,
   "metadata": {},
   "outputs": [],
   "source": [
    "paid_event_df.head()"
   ]
  },
  {
   "cell_type": "markdown",
   "metadata": {},
   "source": [
    "# セッションごとに購買行動あったかの記録"
   ]
  },
  {
   "cell_type": "code",
   "execution_count": null,
   "metadata": {},
   "outputs": [],
   "source": [
    "not_paid_sessions = paid_event_df.session_id\n",
    "meta_df['cancel'] = 0\n",
    "meta_df.loc[list(paid_event_df.session_id.unique()), 'cancel'] = 1\n",
    "meta_df.head()\n"
   ]
  },
  {
   "cell_type": "markdown",
   "metadata": {},
   "source": [
    "## Test部分のsesssion_idは弾く"
   ]
  },
  {
   "cell_type": "code",
   "execution_count": null,
   "metadata": {},
   "outputs": [],
   "source": [
    "meta_df = meta_df[~meta_df.session_id.isin(test_df.session_id)].reset_index()\n",
    "meta_df.head()"
   ]
  },
  {
   "cell_type": "markdown",
   "metadata": {},
   "source": [
    "## 集計"
   ]
  },
  {
   "cell_type": "code",
   "execution_count": null,
   "metadata": {},
   "outputs": [],
   "source": [
    "meta_df[['session_id', 'user_id', 'cancel']].to_csv('../output/all_train_cancel.csv', index=None)"
   ]
  }
 ],
 "metadata": {
  "kernelspec": {
   "display_name": "Python 3",
   "language": "python",
   "name": "python3"
  },
  "language_info": {
   "codemirror_mode": {
    "name": "ipython",
    "version": 3
   },
   "file_extension": ".py",
   "mimetype": "text/x-python",
   "name": "python",
   "nbconvert_exporter": "python",
   "pygments_lexer": "ipython3",
   "version": "3.8.3"
  }
 },
 "nbformat": 4,
 "nbformat_minor": 2
}
