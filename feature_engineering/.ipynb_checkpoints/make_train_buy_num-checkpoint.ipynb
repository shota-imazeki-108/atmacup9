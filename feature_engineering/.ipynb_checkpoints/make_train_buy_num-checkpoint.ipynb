{
 "cells": [
  {
   "cell_type": "code",
   "execution_count": 1,
   "metadata": {},
   "outputs": [],
   "source": [
    "import numpy as np\n",
    "import pandas as pd\n",
    "import os\n",
    "import random\n",
    "random.seed(1)\n",
    "\n",
    "from tqdm import tqdm_notebook as tqdm\n",
    "\n",
    "import lightgbm as lgb"
   ]
  },
  {
   "cell_type": "code",
   "execution_count": 2,
   "metadata": {},
   "outputs": [],
   "source": [
    "input_path = '../datasets/'"
   ]
  },
  {
   "cell_type": "code",
   "execution_count": 3,
   "metadata": {},
   "outputs": [],
   "source": [
    "# log_df = pd.read_csv(os.path.join(input_path, 'carlog.csv'))\n",
    "meta_df = pd.read_csv(os.path.join(input_path, 'meta.csv'))\n",
    "test_df = pd.read_csv(os.path.join(input_path, 'test.csv'))\n",
    "product_master_df = pd.read_csv(os.path.join(input_path, 'product_master.csv'))\n"
   ]
  },
  {
   "cell_type": "markdown",
   "metadata": {},
   "source": [
    "# 正解データの作成"
   ]
  },
  {
   "cell_type": "code",
   "execution_count": 4,
   "metadata": {},
   "outputs": [
    {
     "name": "stderr",
     "output_type": "stream",
     "text": [
      "/Users/imazekishouta/opt/anaconda3/lib/python3.8/site-packages/IPython/core/interactiveshell.py:3057: DtypeWarning: Columns (7) have mixed types. Specify dtype option on import or set low_memory=False.\n",
      "  has_raised = await self.run_ast_nodes(code_ast.body, cell_name,\n"
     ]
    },
    {
     "data": {
      "text/html": [
       "<div>\n",
       "<style scoped>\n",
       "    .dataframe tbody tr th:only-of-type {\n",
       "        vertical-align: middle;\n",
       "    }\n",
       "\n",
       "    .dataframe tbody tr th {\n",
       "        vertical-align: top;\n",
       "    }\n",
       "\n",
       "    .dataframe thead th {\n",
       "        text-align: right;\n",
       "    }\n",
       "</style>\n",
       "<table border=\"1\" class=\"dataframe\">\n",
       "  <thead>\n",
       "    <tr style=\"text-align: right;\">\n",
       "      <th></th>\n",
       "      <th>session_id</th>\n",
       "      <th>register_number</th>\n",
       "      <th>date</th>\n",
       "      <th>hour</th>\n",
       "      <th>spend_time</th>\n",
       "      <th>display_action_id</th>\n",
       "      <th>user_id</th>\n",
       "      <th>value_1</th>\n",
       "      <th>name_1</th>\n",
       "      <th>kind_1</th>\n",
       "      <th>number_1</th>\n",
       "      <th>value_2</th>\n",
       "      <th>name_2</th>\n",
       "      <th>kind_2</th>\n",
       "      <th>number_2</th>\n",
       "      <th>unit_price</th>\n",
       "      <th>n_items</th>\n",
       "      <th>is_payment</th>\n",
       "      <th>predict</th>\n",
       "    </tr>\n",
       "  </thead>\n",
       "  <tbody>\n",
       "    <tr>\n",
       "      <td>0</td>\n",
       "      <td>0</td>\n",
       "      <td>2003</td>\n",
       "      <td>2019-02-14</td>\n",
       "      <td>4</td>\n",
       "      <td>0</td>\n",
       "      <td>136</td>\n",
       "      <td>bE94Gct4vGiKM7z2Y79cjk</td>\n",
       "      <td>NaN</td>\n",
       "      <td>NaN</td>\n",
       "      <td>NaN</td>\n",
       "      <td>NaN</td>\n",
       "      <td>NaN</td>\n",
       "      <td>NaN</td>\n",
       "      <td>NaN</td>\n",
       "      <td>NaN</td>\n",
       "      <td>NaN</td>\n",
       "      <td>0</td>\n",
       "      <td>0</td>\n",
       "      <td>0</td>\n",
       "    </tr>\n",
       "    <tr>\n",
       "      <td>1</td>\n",
       "      <td>0</td>\n",
       "      <td>2003</td>\n",
       "      <td>2019-02-14</td>\n",
       "      <td>4</td>\n",
       "      <td>32</td>\n",
       "      <td>209</td>\n",
       "      <td>bE94Gct4vGiKM7z2Y79cjk</td>\n",
       "      <td>4522646719765</td>\n",
       "      <td>おかかおにぎり　５９円</td>\n",
       "      <td>商品</td>\n",
       "      <td>1.0</td>\n",
       "      <td>NaN</td>\n",
       "      <td>NaN</td>\n",
       "      <td>NaN</td>\n",
       "      <td>NaN</td>\n",
       "      <td>59.0</td>\n",
       "      <td>1</td>\n",
       "      <td>0</td>\n",
       "      <td>0</td>\n",
       "    </tr>\n",
       "    <tr>\n",
       "      <td>2</td>\n",
       "      <td>0</td>\n",
       "      <td>2003</td>\n",
       "      <td>2019-02-14</td>\n",
       "      <td>4</td>\n",
       "      <td>37</td>\n",
       "      <td>209</td>\n",
       "      <td>bE94Gct4vGiKM7z2Y79cjk</td>\n",
       "      <td>4522646695663</td>\n",
       "      <td>梅（種なし）おにぎり５９</td>\n",
       "      <td>商品</td>\n",
       "      <td>1.0</td>\n",
       "      <td>NaN</td>\n",
       "      <td>NaN</td>\n",
       "      <td>NaN</td>\n",
       "      <td>NaN</td>\n",
       "      <td>59.0</td>\n",
       "      <td>1</td>\n",
       "      <td>0</td>\n",
       "      <td>0</td>\n",
       "    </tr>\n",
       "    <tr>\n",
       "      <td>3</td>\n",
       "      <td>0</td>\n",
       "      <td>2003</td>\n",
       "      <td>2019-02-14</td>\n",
       "      <td>4</td>\n",
       "      <td>52</td>\n",
       "      <td>209</td>\n",
       "      <td>bE94Gct4vGiKM7z2Y79cjk</td>\n",
       "      <td>4522646716641</td>\n",
       "      <td>紅鮭おにぎり７９円</td>\n",
       "      <td>商品</td>\n",
       "      <td>1.0</td>\n",
       "      <td>NaN</td>\n",
       "      <td>NaN</td>\n",
       "      <td>NaN</td>\n",
       "      <td>NaN</td>\n",
       "      <td>79.0</td>\n",
       "      <td>1</td>\n",
       "      <td>0</td>\n",
       "      <td>0</td>\n",
       "    </tr>\n",
       "    <tr>\n",
       "      <td>4</td>\n",
       "      <td>0</td>\n",
       "      <td>2003</td>\n",
       "      <td>2019-02-14</td>\n",
       "      <td>4</td>\n",
       "      <td>59</td>\n",
       "      <td>209</td>\n",
       "      <td>bE94Gct4vGiKM7z2Y79cjk</td>\n",
       "      <td>4522646695670</td>\n",
       "      <td>明太子おにぎり　７９円</td>\n",
       "      <td>商品</td>\n",
       "      <td>1.0</td>\n",
       "      <td>NaN</td>\n",
       "      <td>NaN</td>\n",
       "      <td>NaN</td>\n",
       "      <td>NaN</td>\n",
       "      <td>79.0</td>\n",
       "      <td>1</td>\n",
       "      <td>0</td>\n",
       "      <td>0</td>\n",
       "    </tr>\n",
       "  </tbody>\n",
       "</table>\n",
       "</div>"
      ],
      "text/plain": [
       "   session_id  register_number        date  hour  spend_time  \\\n",
       "0           0             2003  2019-02-14     4           0   \n",
       "1           0             2003  2019-02-14     4          32   \n",
       "2           0             2003  2019-02-14     4          37   \n",
       "3           0             2003  2019-02-14     4          52   \n",
       "4           0             2003  2019-02-14     4          59   \n",
       "\n",
       "   display_action_id                 user_id        value_1        name_1  \\\n",
       "0                136  bE94Gct4vGiKM7z2Y79cjk            NaN           NaN   \n",
       "1                209  bE94Gct4vGiKM7z2Y79cjk  4522646719765   おかかおにぎり　５９円   \n",
       "2                209  bE94Gct4vGiKM7z2Y79cjk  4522646695663  梅（種なし）おにぎり５９   \n",
       "3                209  bE94Gct4vGiKM7z2Y79cjk  4522646716641     紅鮭おにぎり７９円   \n",
       "4                209  bE94Gct4vGiKM7z2Y79cjk  4522646695670   明太子おにぎり　７９円   \n",
       "\n",
       "  kind_1  number_1  value_2 name_2 kind_2  number_2  unit_price  n_items  \\\n",
       "0    NaN       NaN      NaN    NaN    NaN       NaN         NaN        0   \n",
       "1     商品       1.0      NaN    NaN    NaN       NaN        59.0        1   \n",
       "2     商品       1.0      NaN    NaN    NaN       NaN        59.0        1   \n",
       "3     商品       1.0      NaN    NaN    NaN       NaN        79.0        1   \n",
       "4     商品       1.0      NaN    NaN    NaN       NaN        79.0        1   \n",
       "\n",
       "   is_payment  predict  \n",
       "0           0        0  \n",
       "1           0        0  \n",
       "2           0        0  \n",
       "3           0        0  \n",
       "4           0        0  "
      ]
     },
     "execution_count": 4,
     "metadata": {},
     "output_type": "execute_result"
    }
   ],
   "source": [
    "is_predict = True # True\n",
    "\n",
    "log_df2 = pd.read_csv('../output/cart_log.csv')\n",
    "log_df2.head()"
   ]
  },
  {
   "cell_type": "markdown",
   "metadata": {},
   "source": [
    "## 購入イベントのあったセッションのみに絞る"
   ]
  },
  {
   "cell_type": "code",
   "execution_count": 5,
   "metadata": {},
   "outputs": [
    {
     "name": "stdout",
     "output_type": "stream",
     "text": [
      "all sessions:  720175\n",
      "num sessions paid:  618462\n"
     ]
    }
   ],
   "source": [
    "def get_paid_event(df):\n",
    "    print('all sessions: ', len(df.session_id.unique()))\n",
    "\n",
    "    paid_event_ids = list(df[df['is_payment']==1]['session_id'].unique())\n",
    "    print('num sessions paid: ', len(paid_event_ids))\n",
    "\n",
    "    return df[df['session_id'].isin(paid_event_ids)]\n",
    "\n",
    "paid_event_df = get_paid_event(log_df2)"
   ]
  },
  {
   "cell_type": "markdown",
   "metadata": {},
   "source": [
    "## 商品レコードのみに絞る"
   ]
  },
  {
   "cell_type": "code",
   "execution_count": 6,
   "metadata": {},
   "outputs": [
    {
     "data": {
      "text/html": [
       "<div>\n",
       "<style scoped>\n",
       "    .dataframe tbody tr th:only-of-type {\n",
       "        vertical-align: middle;\n",
       "    }\n",
       "\n",
       "    .dataframe tbody tr th {\n",
       "        vertical-align: top;\n",
       "    }\n",
       "\n",
       "    .dataframe thead th {\n",
       "        text-align: right;\n",
       "    }\n",
       "</style>\n",
       "<table border=\"1\" class=\"dataframe\">\n",
       "  <thead>\n",
       "    <tr style=\"text-align: right;\">\n",
       "      <th></th>\n",
       "      <th>session_id</th>\n",
       "      <th>value_1</th>\n",
       "      <th>n_items</th>\n",
       "      <th>predict</th>\n",
       "    </tr>\n",
       "  </thead>\n",
       "  <tbody>\n",
       "    <tr>\n",
       "      <td>1</td>\n",
       "      <td>0</td>\n",
       "      <td>4522646719765</td>\n",
       "      <td>1</td>\n",
       "      <td>0</td>\n",
       "    </tr>\n",
       "    <tr>\n",
       "      <td>2</td>\n",
       "      <td>0</td>\n",
       "      <td>4522646695663</td>\n",
       "      <td>1</td>\n",
       "      <td>0</td>\n",
       "    </tr>\n",
       "    <tr>\n",
       "      <td>3</td>\n",
       "      <td>0</td>\n",
       "      <td>4522646716641</td>\n",
       "      <td>1</td>\n",
       "      <td>0</td>\n",
       "    </tr>\n",
       "    <tr>\n",
       "      <td>4</td>\n",
       "      <td>0</td>\n",
       "      <td>4522646695670</td>\n",
       "      <td>1</td>\n",
       "      <td>0</td>\n",
       "    </tr>\n",
       "    <tr>\n",
       "      <td>5</td>\n",
       "      <td>0</td>\n",
       "      <td>4522646720440</td>\n",
       "      <td>1</td>\n",
       "      <td>0</td>\n",
       "    </tr>\n",
       "  </tbody>\n",
       "</table>\n",
       "</div>"
      ],
      "text/plain": [
       "   session_id        value_1  n_items  predict\n",
       "1           0  4522646719765        1        0\n",
       "2           0  4522646695663        1        0\n",
       "3           0  4522646716641        1        0\n",
       "4           0  4522646695670        1        0\n",
       "5           0  4522646720440        1        0"
      ]
     },
     "execution_count": 6,
     "metadata": {},
     "output_type": "execute_result"
    }
   ],
   "source": [
    "def get_item_record(df, cols=['session_id', 'value_1', 'n_items', 'predict']):\n",
    "    return df[df['kind_1']=='商品'][cols]\n",
    "\n",
    "paid_item_event_df = get_item_record(paid_event_df)\n",
    "paid_item_event_df.head()"
   ]
  },
  {
   "cell_type": "markdown",
   "metadata": {},
   "source": [
    "## 予測対象行に絞る"
   ]
  },
  {
   "cell_type": "code",
   "execution_count": 7,
   "metadata": {},
   "outputs": [
    {
     "data": {
      "text/html": [
       "<div>\n",
       "<style scoped>\n",
       "    .dataframe tbody tr th:only-of-type {\n",
       "        vertical-align: middle;\n",
       "    }\n",
       "\n",
       "    .dataframe tbody tr th {\n",
       "        vertical-align: top;\n",
       "    }\n",
       "\n",
       "    .dataframe thead th {\n",
       "        text-align: right;\n",
       "    }\n",
       "</style>\n",
       "<table border=\"1\" class=\"dataframe\">\n",
       "  <thead>\n",
       "    <tr style=\"text-align: right;\">\n",
       "      <th></th>\n",
       "      <th>session_id</th>\n",
       "      <th>value_1</th>\n",
       "      <th>n_items</th>\n",
       "    </tr>\n",
       "  </thead>\n",
       "  <tbody>\n",
       "    <tr>\n",
       "      <td>1</td>\n",
       "      <td>0</td>\n",
       "      <td>4522646719765</td>\n",
       "      <td>1</td>\n",
       "    </tr>\n",
       "    <tr>\n",
       "      <td>2</td>\n",
       "      <td>0</td>\n",
       "      <td>4522646695663</td>\n",
       "      <td>1</td>\n",
       "    </tr>\n",
       "    <tr>\n",
       "      <td>3</td>\n",
       "      <td>0</td>\n",
       "      <td>4522646716641</td>\n",
       "      <td>1</td>\n",
       "    </tr>\n",
       "    <tr>\n",
       "      <td>4</td>\n",
       "      <td>0</td>\n",
       "      <td>4522646695670</td>\n",
       "      <td>1</td>\n",
       "    </tr>\n",
       "    <tr>\n",
       "      <td>5</td>\n",
       "      <td>0</td>\n",
       "      <td>4522646720440</td>\n",
       "      <td>1</td>\n",
       "    </tr>\n",
       "  </tbody>\n",
       "</table>\n",
       "</div>"
      ],
      "text/plain": [
       "   session_id        value_1  n_items\n",
       "1           0  4522646719765        1\n",
       "2           0  4522646695663        1\n",
       "3           0  4522646716641        1\n",
       "4           0  4522646695670        1\n",
       "5           0  4522646720440        1"
      ]
     },
     "execution_count": 7,
     "metadata": {},
     "output_type": "execute_result"
    }
   ],
   "source": [
    "def get_target_category_record(df, is_predict=True):\n",
    "    if is_predict:\n",
    "        df = df[df['predict']==0] # 見えてるところの情報だけにする\n",
    "    return df.drop(['predict'], axis=1)\n",
    "\n",
    "paid_item_event_df = get_target_category_record(paid_item_event_df, is_predict=is_predict)\n",
    "paid_item_event_df.head()"
   ]
  },
  {
   "cell_type": "markdown",
   "metadata": {},
   "source": [
    "## 購入個数の集計"
   ]
  },
  {
   "cell_type": "code",
   "execution_count": 8,
   "metadata": {},
   "outputs": [
    {
     "data": {
      "text/html": [
       "<div>\n",
       "<style scoped>\n",
       "    .dataframe tbody tr th:only-of-type {\n",
       "        vertical-align: middle;\n",
       "    }\n",
       "\n",
       "    .dataframe tbody tr th {\n",
       "        vertical-align: top;\n",
       "    }\n",
       "\n",
       "    .dataframe thead th {\n",
       "        text-align: right;\n",
       "    }\n",
       "</style>\n",
       "<table border=\"1\" class=\"dataframe\">\n",
       "  <thead>\n",
       "    <tr style=\"text-align: right;\">\n",
       "      <th></th>\n",
       "      <th>session_id</th>\n",
       "      <th>n_items</th>\n",
       "    </tr>\n",
       "  </thead>\n",
       "  <tbody>\n",
       "    <tr>\n",
       "      <td>0</td>\n",
       "      <td>0</td>\n",
       "      <td>5</td>\n",
       "    </tr>\n",
       "    <tr>\n",
       "      <td>1</td>\n",
       "      <td>1</td>\n",
       "      <td>5</td>\n",
       "    </tr>\n",
       "    <tr>\n",
       "      <td>2</td>\n",
       "      <td>2</td>\n",
       "      <td>5</td>\n",
       "    </tr>\n",
       "    <tr>\n",
       "      <td>3</td>\n",
       "      <td>3</td>\n",
       "      <td>7</td>\n",
       "    </tr>\n",
       "    <tr>\n",
       "      <td>4</td>\n",
       "      <td>4</td>\n",
       "      <td>1</td>\n",
       "    </tr>\n",
       "  </tbody>\n",
       "</table>\n",
       "</div>"
      ],
      "text/plain": [
       "   session_id  n_items\n",
       "0           0        5\n",
       "1           1        5\n",
       "2           2        5\n",
       "3           3        7\n",
       "4           4        1"
      ]
     },
     "execution_count": 8,
     "metadata": {},
     "output_type": "execute_result"
    }
   ],
   "source": [
    "def calc_buy_num(df):\n",
    "    df = df.groupby(['session_id'])[['n_items']].sum().reset_index()\n",
    "    return df\n",
    "target_item_sum_df = calc_buy_num(paid_item_event_df)\n",
    "target_item_sum_df.head()"
   ]
  },
  {
   "cell_type": "markdown",
   "metadata": {},
   "source": [
    "## Userと紐づける"
   ]
  },
  {
   "cell_type": "code",
   "execution_count": 9,
   "metadata": {},
   "outputs": [
    {
     "data": {
      "text/html": [
       "<div>\n",
       "<style scoped>\n",
       "    .dataframe tbody tr th:only-of-type {\n",
       "        vertical-align: middle;\n",
       "    }\n",
       "\n",
       "    .dataframe tbody tr th {\n",
       "        vertical-align: top;\n",
       "    }\n",
       "\n",
       "    .dataframe thead th {\n",
       "        text-align: right;\n",
       "    }\n",
       "</style>\n",
       "<table border=\"1\" class=\"dataframe\">\n",
       "  <thead>\n",
       "    <tr style=\"text-align: right;\">\n",
       "      <th></th>\n",
       "      <th>session_id</th>\n",
       "      <th>user_id</th>\n",
       "      <th>n_items</th>\n",
       "    </tr>\n",
       "  </thead>\n",
       "  <tbody>\n",
       "    <tr>\n",
       "      <td>0</td>\n",
       "      <td>0</td>\n",
       "      <td>bE94Gct4vGiKM7z2Y79cjk</td>\n",
       "      <td>5.0</td>\n",
       "    </tr>\n",
       "    <tr>\n",
       "      <td>1</td>\n",
       "      <td>1</td>\n",
       "      <td>V4bEuaKPEPoK8MswqPksvK</td>\n",
       "      <td>5.0</td>\n",
       "    </tr>\n",
       "    <tr>\n",
       "      <td>2</td>\n",
       "      <td>2</td>\n",
       "      <td>ntRurFKVWYBQR86auef5Fc</td>\n",
       "      <td>5.0</td>\n",
       "    </tr>\n",
       "    <tr>\n",
       "      <td>3</td>\n",
       "      <td>3</td>\n",
       "      <td>GhHaHMCyrz76y2dCeVXfbn</td>\n",
       "      <td>7.0</td>\n",
       "    </tr>\n",
       "    <tr>\n",
       "      <td>4</td>\n",
       "      <td>4</td>\n",
       "      <td>kG58HejrEcbjJQ7JojRSay</td>\n",
       "      <td>1.0</td>\n",
       "    </tr>\n",
       "  </tbody>\n",
       "</table>\n",
       "</div>"
      ],
      "text/plain": [
       "   session_id                 user_id  n_items\n",
       "0           0  bE94Gct4vGiKM7z2Y79cjk      5.0\n",
       "1           1  V4bEuaKPEPoK8MswqPksvK      5.0\n",
       "2           2  ntRurFKVWYBQR86auef5Fc      5.0\n",
       "3           3  GhHaHMCyrz76y2dCeVXfbn      7.0\n",
       "4           4  kG58HejrEcbjJQ7JojRSay      1.0"
      ]
     },
     "execution_count": 9,
     "metadata": {},
     "output_type": "execute_result"
    }
   ],
   "source": [
    "def join_user_id(df, meta_df):\n",
    "    session_df = meta_df[['session_id', 'user_id']]\n",
    "    df = pd.merge(session_df, df, on='session_id', how='left')\n",
    "    return df\n",
    "\n",
    "all_sessions_Y = join_user_id(target_item_sum_df, meta_df)\n",
    "all_sessions_Y.head()"
   ]
  },
  {
   "cell_type": "code",
   "execution_count": 10,
   "metadata": {},
   "outputs": [
    {
     "name": "stdout",
     "output_type": "stream",
     "text": [
      "is_predict\n"
     ]
    }
   ],
   "source": [
    "if is_predict:\n",
    "    print('is_predict')\n",
    "    all_sessions_Y.to_csv('../output/given_train_buy_num.csv', index=None)\n",
    "else:\n",
    "    all_sessions_Y.to_csv('../output/all_train_buy_num.csv', index=None)\n",
    "    "
   ]
  },
  {
   "cell_type": "code",
   "execution_count": null,
   "metadata": {},
   "outputs": [],
   "source": []
  },
  {
   "cell_type": "code",
   "execution_count": null,
   "metadata": {},
   "outputs": [],
   "source": []
  }
 ],
 "metadata": {
  "kernelspec": {
   "display_name": "Python 3",
   "language": "python",
   "name": "python3"
  },
  "language_info": {
   "codemirror_mode": {
    "name": "ipython",
    "version": 3
   },
   "file_extension": ".py",
   "mimetype": "text/x-python",
   "name": "python",
   "nbconvert_exporter": "python",
   "pygments_lexer": "ipython3",
   "version": "3.8.3"
  }
 },
 "nbformat": 4,
 "nbformat_minor": 2
}
