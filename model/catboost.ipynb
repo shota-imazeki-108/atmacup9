{
 "cells": [
  {
   "cell_type": "code",
   "execution_count": 1,
   "metadata": {},
   "outputs": [],
   "source": [
    "import numpy as np\n",
    "import pandas as pd\n",
    "import os\n",
    "import random\n",
    "\n",
    "from catboost import CatBoostClassifier, Pool"
   ]
  },
  {
   "cell_type": "code",
   "execution_count": 2,
   "metadata": {},
   "outputs": [],
   "source": [
    "input_path = '../datasets/'\n",
    "train_df = pd.read_csv('../output/train_df.csv')\n",
    "test_X = pd.read_csv('../output/test_df.csv')\n",
    "test_df = pd.read_csv(os.path.join(input_path, 'test.csv'))\n",
    "\n",
    "train_Y = pd.read_csv('../output/train_Y.csv')"
   ]
  },
  {
   "cell_type": "code",
   "execution_count": 3,
   "metadata": {},
   "outputs": [],
   "source": [
    "SEED = 5 # 1,2,3,4,5\n",
    "\n",
    "target_category = [38, 110, 113, 114, 134, 171, 172, 173, 376, 435, 467, 537, 539, 629, 768]\n",
    "target_category_str = [str(col) for col in target_category]"
   ]
  },
  {
   "cell_type": "code",
   "execution_count": 4,
   "metadata": {},
   "outputs": [],
   "source": [
    "feature_cols = ['age', 'gender', 'hour', 'weekday', 'jp_holiday', 'tgif', 'num_visit', 'month', 'day', 'register_number', 'max_time_avg', 'time_elapsed', 'hanakin', '38_avg', '110_avg', '113_avg', '114_avg', '134_avg', '171_avg', '172_avg', '173_avg', '376_avg', '435_avg', '467_avg', '537_avg', '539_avg', '629_avg', '768_avg', '38_given', '110_given', '113_given', '114_given', '134_given', '171_given', '172_given', '173_given', '376_given', '435_given', '467_given', '537_given', '539_given', '629_given', '768_given', '38_price_avg', '110_price_avg', '113_price_avg', '114_price_avg', '134_price_avg', '171_price_avg', '172_price_avg', '173_price_avg', '376_price_avg', '435_price_avg', '467_price_avg', '537_price_avg', '539_price_avg', '629_price_avg', '768_price_avg', 'child_items_sum', 'child_items_avg', 'child_items', '1_depart_avg', '2_depart_avg', '3_depart_avg', '4_depart_avg', '5_depart_avg', '7_depart_avg', '9_depart_avg', '10_depart_avg', '13_depart_avg', '14_depart_avg', '15_depart_avg', '16_depart_avg', '18_depart_avg', '19_depart_avg', '20_depart_avg', '21_depart_avg', '22_depart_avg', '23_depart_avg', '24_depart_avg', '25_depart_avg', '26_depart_avg', '27_depart_avg', '28_depart_avg', '29_depart_avg', '30_depart_avg', '32_depart_avg', '33_depart_avg', '34_depart_avg', '35_depart_avg', '36_depart_avg', '37_depart_avg', '38_depart_avg', '39_depart_avg', '40_depart_avg', '41_depart_avg', '46_depart_avg', '47_depart_avg', '49_depart_avg', '50_depart_avg', '58_depart_avg', '59_depart_avg', '60_depart_avg', '69_depart_avg', '70_depart_avg', '71_depart_avg', '72_depart_avg', '73_depart_avg', '74_depart_avg', '75_depart_avg', '77_depart_avg', '78_depart_avg', '79_depart_avg', '80_depart_avg', '81_depart_avg', '82_depart_avg', '83_depart_avg', '84_depart_avg', '87_depart_avg', '88_depart_avg', '89_depart_avg', '91_depart_avg', '92_depart_avg', '93_depart_avg', '94_depart_avg', '95_depart_avg', '96_depart_avg', '97_depart_avg', '98_depart_avg', '106_depart_avg', '107_depart_avg', '109_depart_avg', '117_depart_avg', '118_depart_avg', '121_depart_avg', '124_depart_avg', '131_depart_avg', '132_depart_avg', '133_depart_avg', '136_depart_avg', '137_depart_avg', '138_depart_avg', '141_depart_avg', '151_depart_avg', '152_depart_avg', '153_depart_avg', '154_depart_avg', '155_depart_avg', '156_depart_avg', '161_depart_avg', '162_depart_avg', '163_depart_avg', '165_depart_avg', '172_depart_avg', '173_depart_avg', '174_depart_avg', '178_depart_avg', '179_depart_avg', '182_depart_avg', '183_depart_avg', '185_depart_avg', '187_depart_avg', '194_depart_avg', '201_depart_avg', '202_depart_avg', '203_depart_avg', '206_depart_avg', '207_depart_avg', '210_depart_avg', '214_depart_avg', '215_depart_avg', '217_depart_avg', '219_depart_avg', '220_depart_avg', '221_depart_avg', '223_depart_avg', '224_depart_avg', '225_depart_avg', '226_depart_avg', '227_depart_avg', '228_depart_avg', '229_depart_avg', '230_depart_avg', '231_depart_avg', '232_depart_avg', '233_depart_avg', '234_depart_avg', 'cancel_items_sum', 'cancel_items_avg', 'buy_num_items_sum', 'buy_num_items_avg', 'given_buy_num', 'cancel10_items_sum', 'cancel10_items_avg', 'alone_items_sum', 'alone_items_avg', 'alone_items', 'cook_items_sum', 'cook_items_avg', 'cook_items', 'qoupon_avg', 'avg_qoupon', 'category_35_avg', 'category_37_avg', 'category_39_avg', 'category_40_avg', 'category_86_avg', 'category_111_avg', 'category_112_avg', 'category_135_avg', 'category_137_avg', 'category_141_avg', 'category_142_avg', 'category_143_avg', 'category_145_avg', 'category_148_avg', 'category_149_avg', 'category_150_avg', 'category_205_avg', 'category_206_avg', 'category_207_avg', 'category_208_avg', 'category_209_avg', 'category_210_avg', 'category_274_avg', 'category_275_avg', 'category_276_avg', 'category_289_avg', 'category_307_avg', 'category_310_avg', 'category_311_avg', 'category_312_avg', 'category_313_avg', 'category_316_avg', 'category_317_avg', 'category_319_avg', 'category_321_avg', 'category_328_avg', 'category_334_avg', 'category_340_avg', 'category_341_avg', 'category_342_avg', 'category_343_avg', 'category_344_avg', 'category_363_avg', 'category_365_avg', 'category_368_avg', 'category_370_avg', 'category_371_avg', 'category_372_avg', 'category_373_avg', 'category_374_avg', 'category_375_avg', 'category_376_avg', 'category_377_avg', 'category_378_avg', 'category_391_avg', 'category_392_avg', 'category_406_avg', 'category_407_avg', 'category_408_avg', 'category_410_avg', 'category_411_avg', 'category_414_avg', 'category_415_avg', 'category_416_avg', 'category_417_avg', 'category_420_avg', 'category_421_avg', 'category_422_avg', 'category_423_avg', 'category_424_avg', 'category_425_avg', 'category_426_avg', 'category_431_avg', 'category_432_avg', 'category_433_avg', 'category_436_avg', 'category_469_avg', 'category_470_avg', 'category_471_avg', 'category_472_avg', 'category_473_avg', 'category_474_avg', 'category_508_avg', 'category_509_avg', 'category_536_avg', 'category_538_avg', 'category_561_avg', 'category_562_avg', 'category_565_avg', 'category_566_avg', 'category_567_avg', 'category_568_avg', 'category_579_avg', 'category_587_avg', 'category_588_avg', 'category_589_avg', 'category_590_avg', 'category_591_avg', 'category_594_avg', 'category_602_avg', 'category_617_avg', 'category_619_avg', 'category_620_avg', 'category_621_avg', 'category_623_avg', 'category_628_avg', 'category_630_avg', 'category_631_avg', 'category_632_avg', 'category_633_avg', 'category_634_avg', 'category_636_avg', 'category_655_avg', 'category_665_avg', 'category_666_avg', 'category_669_avg', 'category_674_avg', 'category_679_avg', 'category_684_avg', 'category_708_avg', 'category_711_avg', 'category_716_avg', 'category_720_avg', 'category_724_avg', 'category_769_avg', 'category_770_avg', 'category_771_avg', 'similar_110_avg', 'similar_113_avg', 'similar_114_avg', 'similar_134_avg', 'similar_171_avg', 'similar_172_avg', 'similar_173_avg', 'similar_376_avg', 'similar_38_avg', 'similar_435_avg', 'similar_467_avg', 'similar_537_avg', 'similar_539_avg', 'similar_629_avg', 'similar_768_avg', 'category_35_given', 'category_37_given', 'category_39_given', 'category_40_given', 'category_86_given', 'category_111_given', 'category_112_given', 'category_135_given', 'category_136_given', 'category_137_given', 'category_141_given', 'category_142_given', 'category_143_given', 'category_145_given', 'category_148_given', 'category_149_given', 'category_150_given', 'category_205_given', 'category_206_given', 'category_207_given', 'category_208_given', 'category_209_given', 'category_210_given', 'category_274_given', 'category_275_given', 'category_276_given', 'category_289_given', 'category_294_given', 'category_295_given', 'category_299_given', 'category_307_given', 'category_310_given', 'category_311_given', 'category_312_given', 'category_313_given', 'category_314_given', 'category_315_given', 'category_316_given', 'category_317_given', 'category_319_given', 'category_321_given', 'category_328_given', 'category_330_given', 'category_331_given', 'category_334_given', 'category_340_given', 'category_341_given', 'category_342_given', 'category_343_given', 'category_344_given', 'category_346_given', 'category_363_given', 'category_365_given', 'category_366_given', 'category_367_given', 'category_368_given', 'category_370_given', 'category_371_given', 'category_372_given', 'category_373_given', 'category_374_given', 'category_375_given', 'category_376_given', 'category_377_given', 'category_378_given', 'category_391_given', 'category_392_given', 'category_393_given', 'category_406_given', 'category_407_given', 'category_408_given', 'category_410_given', 'category_411_given', 'category_414_given', 'category_415_given', 'category_416_given', 'category_417_given', 'category_418_given', 'category_420_given', 'category_421_given', 'category_422_given', 'category_423_given', 'category_424_given', 'category_425_given', 'category_426_given', 'category_430_given', 'category_431_given', 'category_432_given', 'category_433_given', 'category_434_given', 'category_436_given', 'category_468_given', 'category_469_given', 'category_470_given', 'category_471_given', 'category_472_given', 'category_473_given', 'category_474_given', 'category_508_given', 'category_509_given', 'category_510_given', 'category_536_given', 'category_538_given', 'category_546_given', 'category_547_given', 'category_548_given', 'category_561_given', 'category_562_given', 'category_565_given', 'category_566_given', 'category_567_given', 'category_568_given', 'category_569_given', 'category_579_given', 'category_587_given', 'category_588_given', 'category_589_given', 'category_590_given', 'category_591_given', 'category_594_given', 'category_602_given', 'category_613_given', 'category_615_given', 'category_616_given', 'category_617_given', 'category_619_given', 'category_620_given', 'category_623_given', 'category_628_given', 'category_630_given', 'category_631_given', 'category_632_given', 'category_633_given', 'category_634_given', 'category_635_given', 'category_636_given', 'category_655_given', 'category_662_given', 'category_665_given', 'category_666_given', 'category_667_given', 'category_669_given', 'category_674_given', 'category_679_given', 'category_684_given', 'category_696_given', 'category_708_given', 'category_711_given', 'category_716_given', 'category_720_given', 'category_724_given', 'category_726_given', 'category_756_given', 'category_769_given', 'category_770_given', 'category_771_given', 'similar_110_given', 'similar_113_given', 'similar_114_given', 'similar_134_given', 'similar_171_given', 'similar_172_given', 'similar_173_given', 'similar_376_given', 'similar_38_given', 'similar_435_given', 'similar_467_given', 'similar_537_given', 'similar_539_given', 'similar_629_given', 'similar_768_given']"
   ]
  },
  {
   "cell_type": "code",
   "execution_count": 5,
   "metadata": {},
   "outputs": [],
   "source": [
    "params = {\n",
    "    'learning_rate': 0.07,\n",
    "    'eval_metric': 'AUC',\n",
    "    'loss_function': 'Logloss',\n",
    "    'metric_period': 500,\n",
    "    'od_wait': 500,\n",
    "    'iterations': 2500,\n",
    "    'depth': 8,\n",
    "    'random_seed': SEED\n",
    "}\n",
    "\n",
    "\n",
    "params2 = params.copy()"
   ]
  },
  {
   "cell_type": "code",
   "execution_count": 6,
   "metadata": {
    "scrolled": true
   },
   "outputs": [
    {
     "name": "stdout",
     "output_type": "stream",
     "text": [
      "****************************************************************************************************\n",
      "****************************************************************************************************\n",
      "38 30544 374281\n",
      "train & valid:  73305 18327\n"
     ]
    },
    {
     "name": "stderr",
     "output_type": "stream",
     "text": [
      "Warning: Overfitting detector is active, thus evaluation metric is calculated on every iteration. 'metric_period' is ignored for evaluation metric.\n"
     ]
    },
    {
     "name": "stdout",
     "output_type": "stream",
     "text": [
      "0:\ttest: 0.7631013\tbest: 0.7631013 (0)\ttotal: 232ms\tremaining: 9m 39s\n",
      "500:\ttest: 0.7921199\tbest: 0.7940067 (235)\ttotal: 43.3s\tremaining: 2m 52s\n",
      "Stopped by overfitting detector  (500 iterations wait)\n",
      "\n",
      "bestTest = 0.79400674\n",
      "bestIteration = 235\n",
      "\n",
      "Shrink model to first 236 iterations.\n",
      "----------------------------------------------------------------------------------------------------\n"
     ]
    },
    {
     "name": "stderr",
     "output_type": "stream",
     "text": [
      "You should provide test set for use best model. use_best_model parameter has been switched to false value.\n"
     ]
    },
    {
     "name": "stdout",
     "output_type": "stream",
     "text": [
      "0:\ttotal: 233ms\tremaining: 54.5s\n",
      "234:\ttotal: 22.8s\tremaining: 0us\n",
      "****************************************************************************************************\n",
      "****************************************************************************************************\n",
      "110 5730 399095\n",
      "train & valid:  13752 3438\n"
     ]
    },
    {
     "name": "stderr",
     "output_type": "stream",
     "text": [
      "Warning: Overfitting detector is active, thus evaluation metric is calculated on every iteration. 'metric_period' is ignored for evaluation metric.\n"
     ]
    },
    {
     "name": "stdout",
     "output_type": "stream",
     "text": [
      "0:\ttest: 0.7068316\tbest: 0.7068316 (0)\ttotal: 127ms\tremaining: 5m 16s\n",
      "500:\ttest: 0.7814416\tbest: 0.7932889 (78)\ttotal: 30.4s\tremaining: 2m 1s\n",
      "Stopped by overfitting detector  (500 iterations wait)\n",
      "\n",
      "bestTest = 0.7932888617\n",
      "bestIteration = 78\n",
      "\n",
      "Shrink model to first 79 iterations.\n",
      "----------------------------------------------------------------------------------------------------\n"
     ]
    },
    {
     "name": "stderr",
     "output_type": "stream",
     "text": [
      "You should provide test set for use best model. use_best_model parameter has been switched to false value.\n"
     ]
    },
    {
     "name": "stdout",
     "output_type": "stream",
     "text": [
      "0:\ttotal: 127ms\tremaining: 9.8s\n",
      "77:\ttotal: 5.07s\tremaining: 0us\n",
      "****************************************************************************************************\n",
      "****************************************************************************************************\n",
      "113 14570 390255\n",
      "train & valid:  34968 8742\n"
     ]
    },
    {
     "name": "stderr",
     "output_type": "stream",
     "text": [
      "Warning: Overfitting detector is active, thus evaluation metric is calculated on every iteration. 'metric_period' is ignored for evaluation metric.\n"
     ]
    },
    {
     "name": "stdout",
     "output_type": "stream",
     "text": [
      "0:\ttest: 0.7336574\tbest: 0.7336574 (0)\ttotal: 137ms\tremaining: 5m 42s\n",
      "500:\ttest: 0.7850868\tbest: 0.7874879 (221)\ttotal: 35.3s\tremaining: 2m 20s\n",
      "Stopped by overfitting detector  (500 iterations wait)\n",
      "\n",
      "bestTest = 0.7874878863\n",
      "bestIteration = 221\n",
      "\n",
      "Shrink model to first 222 iterations.\n",
      "----------------------------------------------------------------------------------------------------\n"
     ]
    },
    {
     "name": "stderr",
     "output_type": "stream",
     "text": [
      "You should provide test set for use best model. use_best_model parameter has been switched to false value.\n"
     ]
    },
    {
     "name": "stdout",
     "output_type": "stream",
     "text": [
      "0:\ttotal: 137ms\tremaining: 30.1s\n",
      "220:\ttotal: 16.6s\tremaining: 0us\n",
      "****************************************************************************************************\n",
      "****************************************************************************************************\n",
      "114 79493 325332\n",
      "train & valid:  190783 47696\n"
     ]
    },
    {
     "name": "stderr",
     "output_type": "stream",
     "text": [
      "Warning: Overfitting detector is active, thus evaluation metric is calculated on every iteration. 'metric_period' is ignored for evaluation metric.\n"
     ]
    },
    {
     "name": "stdout",
     "output_type": "stream",
     "text": [
      "0:\ttest: 0.7258694\tbest: 0.7258694 (0)\ttotal: 194ms\tremaining: 8m 4s\n",
      "500:\ttest: 0.7583324\tbest: 0.7584850 (419)\ttotal: 1m 4s\tremaining: 4m 16s\n",
      "1000:\ttest: 0.7585509\tbest: 0.7589534 (777)\ttotal: 2m 6s\tremaining: 3m 9s\n",
      "Stopped by overfitting detector  (500 iterations wait)\n",
      "\n",
      "bestTest = 0.7589533795\n",
      "bestIteration = 777\n",
      "\n",
      "Shrink model to first 778 iterations.\n",
      "----------------------------------------------------------------------------------------------------\n"
     ]
    },
    {
     "name": "stderr",
     "output_type": "stream",
     "text": [
      "You should provide test set for use best model. use_best_model parameter has been switched to false value.\n"
     ]
    },
    {
     "name": "stdout",
     "output_type": "stream",
     "text": [
      "0:\ttotal: 222ms\tremaining: 2m 52s\n",
      "500:\ttotal: 1m 12s\tremaining: 40s\n",
      "776:\ttotal: 1m 51s\tremaining: 0us\n",
      "****************************************************************************************************\n",
      "****************************************************************************************************\n",
      "134 54040 350785\n",
      "train & valid:  129696 32424\n"
     ]
    },
    {
     "name": "stderr",
     "output_type": "stream",
     "text": [
      "Warning: Overfitting detector is active, thus evaluation metric is calculated on every iteration. 'metric_period' is ignored for evaluation metric.\n"
     ]
    },
    {
     "name": "stdout",
     "output_type": "stream",
     "text": [
      "0:\ttest: 0.7141968\tbest: 0.7141968 (0)\ttotal: 177ms\tremaining: 7m 22s\n",
      "500:\ttest: 0.7370900\tbest: 0.7377471 (262)\ttotal: 53.8s\tremaining: 3m 34s\n",
      "Stopped by overfitting detector  (500 iterations wait)\n",
      "\n",
      "bestTest = 0.7377471182\n",
      "bestIteration = 262\n",
      "\n",
      "Shrink model to first 263 iterations.\n",
      "----------------------------------------------------------------------------------------------------\n"
     ]
    },
    {
     "name": "stderr",
     "output_type": "stream",
     "text": [
      "You should provide test set for use best model. use_best_model parameter has been switched to false value.\n"
     ]
    },
    {
     "name": "stdout",
     "output_type": "stream",
     "text": [
      "0:\ttotal: 185ms\tremaining: 48.3s\n",
      "261:\ttotal: 31.6s\tremaining: 0us\n",
      "****************************************************************************************************\n",
      "****************************************************************************************************\n",
      "171 34143 370682\n",
      "train & valid:  81943 20486\n"
     ]
    },
    {
     "name": "stderr",
     "output_type": "stream",
     "text": [
      "Warning: Overfitting detector is active, thus evaluation metric is calculated on every iteration. 'metric_period' is ignored for evaluation metric.\n"
     ]
    },
    {
     "name": "stdout",
     "output_type": "stream",
     "text": [
      "0:\ttest: 0.8120345\tbest: 0.8120345 (0)\ttotal: 143ms\tremaining: 5m 56s\n",
      "500:\ttest: 0.8528655\tbest: 0.8528864 (451)\ttotal: 45.4s\tremaining: 3m\n",
      "1000:\ttest: 0.8523409\tbest: 0.8529740 (707)\ttotal: 1m 29s\tremaining: 2m 13s\n",
      "Stopped by overfitting detector  (500 iterations wait)\n",
      "\n",
      "bestTest = 0.8529739522\n",
      "bestIteration = 707\n",
      "\n",
      "Shrink model to first 708 iterations.\n",
      "----------------------------------------------------------------------------------------------------\n"
     ]
    },
    {
     "name": "stderr",
     "output_type": "stream",
     "text": [
      "You should provide test set for use best model. use_best_model parameter has been switched to false value.\n"
     ]
    },
    {
     "name": "stdout",
     "output_type": "stream",
     "text": [
      "0:\ttotal: 156ms\tremaining: 1m 50s\n",
      "500:\ttotal: 49.3s\tremaining: 20.3s\n",
      "706:\ttotal: 1m 8s\tremaining: 0us\n",
      "****************************************************************************************************\n",
      "****************************************************************************************************\n",
      "172 7488 397337\n",
      "train & valid:  17971 4493\n"
     ]
    },
    {
     "name": "stderr",
     "output_type": "stream",
     "text": [
      "Warning: Overfitting detector is active, thus evaluation metric is calculated on every iteration. 'metric_period' is ignored for evaluation metric.\n"
     ]
    },
    {
     "name": "stdout",
     "output_type": "stream",
     "text": [
      "0:\ttest: 0.8304847\tbest: 0.8304847 (0)\ttotal: 140ms\tremaining: 5m 50s\n",
      "500:\ttest: 0.8690139\tbest: 0.8719969 (81)\ttotal: 31.3s\tremaining: 2m 5s\n",
      "Stopped by overfitting detector  (500 iterations wait)\n",
      "\n",
      "bestTest = 0.8719968813\n",
      "bestIteration = 81\n",
      "\n",
      "Shrink model to first 82 iterations.\n",
      "----------------------------------------------------------------------------------------------------\n"
     ]
    },
    {
     "name": "stderr",
     "output_type": "stream",
     "text": [
      "You should provide test set for use best model. use_best_model parameter has been switched to false value.\n"
     ]
    },
    {
     "name": "stdout",
     "output_type": "stream",
     "text": [
      "0:\ttotal: 126ms\tremaining: 10.1s\n",
      "80:\ttotal: 5.28s\tremaining: 0us\n",
      "****************************************************************************************************\n",
      "****************************************************************************************************\n",
      "173 39113 365712\n",
      "train & valid:  93871 23468\n"
     ]
    },
    {
     "name": "stderr",
     "output_type": "stream",
     "text": [
      "Warning: Overfitting detector is active, thus evaluation metric is calculated on every iteration. 'metric_period' is ignored for evaluation metric.\n"
     ]
    },
    {
     "name": "stdout",
     "output_type": "stream",
     "text": [
      "0:\ttest: 0.8215654\tbest: 0.8215654 (0)\ttotal: 149ms\tremaining: 6m 12s\n",
      "500:\ttest: 0.8577393\tbest: 0.8580613 (419)\ttotal: 47.2s\tremaining: 3m 8s\n",
      "Stopped by overfitting detector  (500 iterations wait)\n",
      "\n",
      "bestTest = 0.858061303\n",
      "bestIteration = 419\n",
      "\n",
      "Shrink model to first 420 iterations.\n",
      "----------------------------------------------------------------------------------------------------\n"
     ]
    },
    {
     "name": "stderr",
     "output_type": "stream",
     "text": [
      "You should provide test set for use best model. use_best_model parameter has been switched to false value.\n"
     ]
    },
    {
     "name": "stdout",
     "output_type": "stream",
     "text": [
      "0:\ttotal: 166ms\tremaining: 1m 9s\n",
      "418:\ttotal: 44.1s\tremaining: 0us\n",
      "****************************************************************************************************\n",
      "****************************************************************************************************\n",
      "376 34444 370381\n",
      "train & valid:  82665 20667\n"
     ]
    },
    {
     "name": "stderr",
     "output_type": "stream",
     "text": [
      "Warning: Overfitting detector is active, thus evaluation metric is calculated on every iteration. 'metric_period' is ignored for evaluation metric.\n"
     ]
    },
    {
     "name": "stdout",
     "output_type": "stream",
     "text": [
      "0:\ttest: 0.7286217\tbest: 0.7286217 (0)\ttotal: 147ms\tremaining: 6m 6s\n",
      "500:\ttest: 0.7615150\tbest: 0.7639538 (203)\ttotal: 44.3s\tremaining: 2m 56s\n",
      "Stopped by overfitting detector  (500 iterations wait)\n",
      "\n",
      "bestTest = 0.7639538176\n",
      "bestIteration = 203\n",
      "\n",
      "Shrink model to first 204 iterations.\n",
      "----------------------------------------------------------------------------------------------------\n"
     ]
    },
    {
     "name": "stderr",
     "output_type": "stream",
     "text": [
      "You should provide test set for use best model. use_best_model parameter has been switched to false value.\n"
     ]
    },
    {
     "name": "stdout",
     "output_type": "stream",
     "text": [
      "0:\ttotal: 201ms\tremaining: 40.7s\n",
      "202:\ttotal: 20.4s\tremaining: 0us\n",
      "****************************************************************************************************\n",
      "****************************************************************************************************\n",
      "435 18991 385834\n",
      "train & valid:  45578 11395\n"
     ]
    },
    {
     "name": "stderr",
     "output_type": "stream",
     "text": [
      "Warning: Overfitting detector is active, thus evaluation metric is calculated on every iteration. 'metric_period' is ignored for evaluation metric.\n"
     ]
    },
    {
     "name": "stdout",
     "output_type": "stream",
     "text": [
      "0:\ttest: 0.8144100\tbest: 0.8144100 (0)\ttotal: 140ms\tremaining: 5m 50s\n",
      "500:\ttest: 0.8637884\tbest: 0.8648326 (382)\ttotal: 38.5s\tremaining: 2m 33s\n",
      "Stopped by overfitting detector  (500 iterations wait)\n",
      "\n",
      "bestTest = 0.8648325948\n",
      "bestIteration = 382\n",
      "\n",
      "Shrink model to first 383 iterations.\n",
      "----------------------------------------------------------------------------------------------------\n"
     ]
    },
    {
     "name": "stderr",
     "output_type": "stream",
     "text": [
      "You should provide test set for use best model. use_best_model parameter has been switched to false value.\n"
     ]
    },
    {
     "name": "stdout",
     "output_type": "stream",
     "text": [
      "0:\ttotal: 156ms\tremaining: 59.5s\n",
      "381:\ttotal: 30.4s\tremaining: 0us\n",
      "****************************************************************************************************\n",
      "****************************************************************************************************\n",
      "467 9108 395717\n",
      "train & valid:  21859 5465\n"
     ]
    },
    {
     "name": "stderr",
     "output_type": "stream",
     "text": [
      "Warning: Overfitting detector is active, thus evaluation metric is calculated on every iteration. 'metric_period' is ignored for evaluation metric.\n"
     ]
    },
    {
     "name": "stdout",
     "output_type": "stream",
     "text": [
      "0:\ttest: 0.8059208\tbest: 0.8059208 (0)\ttotal: 122ms\tremaining: 5m 4s\n",
      "500:\ttest: 0.8498592\tbest: 0.8523161 (146)\ttotal: 32.4s\tremaining: 2m 9s\n",
      "Stopped by overfitting detector  (500 iterations wait)\n",
      "\n",
      "bestTest = 0.8523160826\n",
      "bestIteration = 146\n",
      "\n",
      "Shrink model to first 147 iterations.\n",
      "----------------------------------------------------------------------------------------------------\n"
     ]
    },
    {
     "name": "stderr",
     "output_type": "stream",
     "text": [
      "You should provide test set for use best model. use_best_model parameter has been switched to false value.\n"
     ]
    },
    {
     "name": "stdout",
     "output_type": "stream",
     "text": [
      "0:\ttotal: 134ms\tremaining: 19.5s\n",
      "145:\ttotal: 10.3s\tremaining: 0us\n",
      "****************************************************************************************************\n",
      "****************************************************************************************************\n",
      "537 10614 394211\n",
      "train & valid:  25473 6369\n"
     ]
    },
    {
     "name": "stderr",
     "output_type": "stream",
     "text": [
      "Warning: Overfitting detector is active, thus evaluation metric is calculated on every iteration. 'metric_period' is ignored for evaluation metric.\n"
     ]
    },
    {
     "name": "stdout",
     "output_type": "stream",
     "text": [
      "0:\ttest: 0.8092321\tbest: 0.8092321 (0)\ttotal: 147ms\tremaining: 6m 8s\n",
      "500:\ttest: 0.8756461\tbest: 0.8779709 (76)\ttotal: 33.2s\tremaining: 2m 12s\n",
      "Stopped by overfitting detector  (500 iterations wait)\n",
      "\n",
      "bestTest = 0.8779709409\n",
      "bestIteration = 76\n",
      "\n",
      "Shrink model to first 77 iterations.\n",
      "----------------------------------------------------------------------------------------------------\n"
     ]
    },
    {
     "name": "stderr",
     "output_type": "stream",
     "text": [
      "You should provide test set for use best model. use_best_model parameter has been switched to false value.\n"
     ]
    },
    {
     "name": "stdout",
     "output_type": "stream",
     "text": [
      "0:\ttotal: 137ms\tremaining: 10.2s\n",
      "75:\ttotal: 5.45s\tremaining: 0us\n",
      "****************************************************************************************************\n",
      "****************************************************************************************************\n",
      "539 14460 390365\n",
      "train & valid:  34704 8676\n"
     ]
    },
    {
     "name": "stderr",
     "output_type": "stream",
     "text": [
      "Warning: Overfitting detector is active, thus evaluation metric is calculated on every iteration. 'metric_period' is ignored for evaluation metric.\n"
     ]
    },
    {
     "name": "stdout",
     "output_type": "stream",
     "text": [
      "0:\ttest: 0.7764997\tbest: 0.7764997 (0)\ttotal: 127ms\tremaining: 5m 18s\n",
      "500:\ttest: 0.8289992\tbest: 0.8309760 (234)\ttotal: 35.2s\tremaining: 2m 20s\n",
      "Stopped by overfitting detector  (500 iterations wait)\n",
      "\n",
      "bestTest = 0.8309760263\n",
      "bestIteration = 234\n",
      "\n",
      "Shrink model to first 235 iterations.\n",
      "----------------------------------------------------------------------------------------------------\n"
     ]
    },
    {
     "name": "stderr",
     "output_type": "stream",
     "text": [
      "You should provide test set for use best model. use_best_model parameter has been switched to false value.\n"
     ]
    },
    {
     "name": "stdout",
     "output_type": "stream",
     "text": [
      "0:\ttotal: 135ms\tremaining: 31.5s\n",
      "233:\ttotal: 17.6s\tremaining: 0us\n",
      "****************************************************************************************************\n",
      "****************************************************************************************************\n",
      "629 4070 400755\n",
      "train & valid:  9768 2442\n"
     ]
    },
    {
     "name": "stderr",
     "output_type": "stream",
     "text": [
      "Warning: Overfitting detector is active, thus evaluation metric is calculated on every iteration. 'metric_period' is ignored for evaluation metric.\n"
     ]
    },
    {
     "name": "stdout",
     "output_type": "stream",
     "text": [
      "0:\ttest: 0.8540446\tbest: 0.8540446 (0)\ttotal: 115ms\tremaining: 4m 47s\n",
      "500:\ttest: 0.9134952\tbest: 0.9204137 (128)\ttotal: 26.4s\tremaining: 1m 45s\n",
      "Stopped by overfitting detector  (500 iterations wait)\n",
      "\n",
      "bestTest = 0.9204137185\n",
      "bestIteration = 128\n",
      "\n",
      "Shrink model to first 129 iterations.\n",
      "----------------------------------------------------------------------------------------------------\n"
     ]
    },
    {
     "name": "stderr",
     "output_type": "stream",
     "text": [
      "You should provide test set for use best model. use_best_model parameter has been switched to false value.\n"
     ]
    },
    {
     "name": "stdout",
     "output_type": "stream",
     "text": [
      "0:\ttotal: 120ms\tremaining: 15.3s\n",
      "127:\ttotal: 7.7s\tremaining: 0us\n",
      "****************************************************************************************************\n",
      "****************************************************************************************************\n",
      "768 39411 365414\n",
      "train & valid:  94586 23647\n"
     ]
    },
    {
     "name": "stderr",
     "output_type": "stream",
     "text": [
      "Warning: Overfitting detector is active, thus evaluation metric is calculated on every iteration. 'metric_period' is ignored for evaluation metric.\n"
     ]
    },
    {
     "name": "stdout",
     "output_type": "stream",
     "text": [
      "0:\ttest: 0.7127777\tbest: 0.7127777 (0)\ttotal: 153ms\tremaining: 6m 21s\n",
      "500:\ttest: 0.7421629\tbest: 0.7441760 (246)\ttotal: 47.2s\tremaining: 3m 8s\n",
      "Stopped by overfitting detector  (500 iterations wait)\n",
      "\n",
      "bestTest = 0.7441759879\n",
      "bestIteration = 246\n",
      "\n",
      "Shrink model to first 247 iterations.\n",
      "----------------------------------------------------------------------------------------------------\n"
     ]
    },
    {
     "name": "stderr",
     "output_type": "stream",
     "text": [
      "You should provide test set for use best model. use_best_model parameter has been switched to false value.\n"
     ]
    },
    {
     "name": "stdout",
     "output_type": "stream",
     "text": [
      "0:\ttotal: 201ms\tremaining: 49.3s\n",
      "245:\ttotal: 25.6s\tremaining: 0us\n"
     ]
    }
   ],
   "source": [
    "cvs = []\n",
    "models = []\n",
    "best_cv_scores = {}\n",
    "best_model_scores = {}\n",
    "\n",
    "for target_col in target_category_str:\n",
    "    print('*'*100)\n",
    "    print('*'*100)\n",
    "    true_ids = list(train_Y[train_Y[target_col]==1].session_id.unique())\n",
    "    false_ids = list(train_Y[train_Y[target_col]!=1].session_id.unique())\n",
    "    print(target_col, len(true_ids), len(false_ids))\n",
    "    \n",
    "    false_ids = random.sample(false_ids, len(true_ids) * 2) # down samplling\n",
    "    sampling_ids = true_ids + false_ids\n",
    "    sampling_ids = sorted(sampling_ids)\n",
    "    \n",
    "    train_idx = sampling_ids[: int(len(sampling_ids)*0.8)]\n",
    "    val_idx = sampling_ids[int(len(sampling_ids)*0.8): ]\n",
    "    \n",
    "    assert set(train_idx) & set(val_idx) == set()\n",
    "    train_X = train_df[train_df.session_id.isin(train_idx)]\n",
    "    train_y = train_Y[train_Y.session_id.isin(train_idx)]\n",
    "\n",
    "    valid_X = train_df[train_df.session_id.isin(val_idx)].reset_index()\n",
    "    valid_y = train_Y[train_Y.session_id.isin(val_idx)].reset_index()\n",
    "    print('train & valid: ', len(train_X), len(valid_X))\n",
    "    \n",
    "    train_set = Pool(train_X[feature_cols], label = train_y[target_col])\n",
    "    val_set = Pool(valid_X[feature_cols], label = valid_y[target_col])\n",
    "    del train_X, train_y, valid_X, valid_y\n",
    "    \n",
    "    cv = CatBoostClassifier(**params)\n",
    "    cv.fit(train_set, eval_set = val_set, use_best_model = True)\n",
    "    cvs.append(cv)\n",
    "    \n",
    "    params2['iterations'] = cv.get_best_iteration()\n",
    "    \n",
    "    print('-'*100)\n",
    "    all_train_X = train_df[train_df.session_id.isin(sampling_ids)]\n",
    "    all_train_y = train_Y[train_Y.session_id.isin(sampling_ids)]\n",
    "    all_tr_data = Pool(all_train_X[feature_cols], label = all_train_y[target_col])\n",
    "    model = CatBoostClassifier(**params2)\n",
    "    model.fit(all_tr_data, use_best_model = True)\n",
    "    \n",
    "     # _ = lgb.plot_importance(model)\n",
    "    models.append(model)\n",
    "#     del tr_data, va_data"
   ]
  },
  {
   "cell_type": "code",
   "execution_count": 7,
   "metadata": {},
   "outputs": [
    {
     "name": "stdout",
     "output_type": "stream",
     "text": [
      "38 : 0.7940067399756976 0.4477889496855729\n",
      "110 : 0.7932888616646636 0.4646975290540618\n",
      "113 : 0.7874878862617578 0.43593400440298274\n",
      "114 : 0.7589533795121831 0.476107345896112\n",
      "134 : 0.7377471181874431 0.5242303871047178\n",
      "171 : 0.8529739522350226 0.33883661111317276\n",
      "172 : 0.8719968812524601 0.395608665158631\n",
      "173 : 0.8580613030312882 0.3843632058837004\n",
      "376 : 0.7639538175602432 0.5119622767349932\n",
      "435 : 0.864832594797551 0.34864356362336746\n",
      "467 : 0.8523160825596856 0.3817568989873294\n",
      "537 : 0.8779709409172598 0.3635909996138431\n",
      "539 : 0.8309760263371397 0.379093283580243\n",
      "629 : 0.9204137185470976 0.27619204914672807\n",
      "768 : 0.7441759879129537 0.5199397193476188\n",
      "0.8206103527168298\n",
      "0.4165830326222049\n"
     ]
    }
   ],
   "source": [
    "cv_scores = []\n",
    "model_scores = []\n",
    "for cv, model , category in zip(cvs, models, target_category_str):\n",
    "    cv_score = cv.get_best_score()['validation']['AUC']\n",
    "    model_score = model.get_best_score()['learn']['Logloss']\n",
    "    print(category, ':', cv_score, model_score)\n",
    "    cv_scores.append(cv_score)\n",
    "    model_scores.append(model_score)\n",
    "print(sum(cv_scores) / len(cv_scores))\n",
    "print(sum(model_scores) / len(model_scores))\n"
   ]
  },
  {
   "cell_type": "code",
   "execution_count": 8,
   "metadata": {},
   "outputs": [
    {
     "data": {
      "text/html": [
       "<div>\n",
       "<style scoped>\n",
       "    .dataframe tbody tr th:only-of-type {\n",
       "        vertical-align: middle;\n",
       "    }\n",
       "\n",
       "    .dataframe tbody tr th {\n",
       "        vertical-align: top;\n",
       "    }\n",
       "\n",
       "    .dataframe thead th {\n",
       "        text-align: right;\n",
       "    }\n",
       "</style>\n",
       "<table border=\"1\" class=\"dataframe\">\n",
       "  <thead>\n",
       "    <tr style=\"text-align: right;\">\n",
       "      <th></th>\n",
       "      <th>session_id</th>\n",
       "      <th>38</th>\n",
       "      <th>110</th>\n",
       "      <th>113</th>\n",
       "      <th>114</th>\n",
       "      <th>134</th>\n",
       "      <th>171</th>\n",
       "      <th>172</th>\n",
       "      <th>173</th>\n",
       "      <th>376</th>\n",
       "      <th>435</th>\n",
       "      <th>467</th>\n",
       "      <th>537</th>\n",
       "      <th>539</th>\n",
       "      <th>629</th>\n",
       "      <th>768</th>\n",
       "    </tr>\n",
       "  </thead>\n",
       "  <tbody>\n",
       "    <tr>\n",
       "      <td>0</td>\n",
       "      <td>663721</td>\n",
       "      <td>0.516345</td>\n",
       "      <td>0.334139</td>\n",
       "      <td>0.117808</td>\n",
       "      <td>0.192034</td>\n",
       "      <td>0.166044</td>\n",
       "      <td>0.062586</td>\n",
       "      <td>0.112790</td>\n",
       "      <td>0.117762</td>\n",
       "      <td>0.332700</td>\n",
       "      <td>0.074157</td>\n",
       "      <td>0.148214</td>\n",
       "      <td>0.069370</td>\n",
       "      <td>0.184168</td>\n",
       "      <td>0.867604</td>\n",
       "      <td>0.078809</td>\n",
       "    </tr>\n",
       "    <tr>\n",
       "      <td>1</td>\n",
       "      <td>663725</td>\n",
       "      <td>0.333441</td>\n",
       "      <td>0.402552</td>\n",
       "      <td>0.482265</td>\n",
       "      <td>0.267858</td>\n",
       "      <td>0.434700</td>\n",
       "      <td>0.043988</td>\n",
       "      <td>0.294365</td>\n",
       "      <td>0.049546</td>\n",
       "      <td>0.289284</td>\n",
       "      <td>0.030338</td>\n",
       "      <td>0.064775</td>\n",
       "      <td>0.092184</td>\n",
       "      <td>0.081650</td>\n",
       "      <td>0.059350</td>\n",
       "      <td>0.068234</td>\n",
       "    </tr>\n",
       "    <tr>\n",
       "      <td>2</td>\n",
       "      <td>663737</td>\n",
       "      <td>0.740239</td>\n",
       "      <td>0.583387</td>\n",
       "      <td>0.218381</td>\n",
       "      <td>0.240490</td>\n",
       "      <td>0.523708</td>\n",
       "      <td>0.234834</td>\n",
       "      <td>0.084508</td>\n",
       "      <td>0.037738</td>\n",
       "      <td>0.695474</td>\n",
       "      <td>0.032400</td>\n",
       "      <td>0.048913</td>\n",
       "      <td>0.686267</td>\n",
       "      <td>0.373256</td>\n",
       "      <td>0.164449</td>\n",
       "      <td>0.506163</td>\n",
       "    </tr>\n",
       "    <tr>\n",
       "      <td>3</td>\n",
       "      <td>663745</td>\n",
       "      <td>0.129626</td>\n",
       "      <td>0.177971</td>\n",
       "      <td>0.409716</td>\n",
       "      <td>0.325255</td>\n",
       "      <td>0.247367</td>\n",
       "      <td>0.815954</td>\n",
       "      <td>0.116506</td>\n",
       "      <td>0.766250</td>\n",
       "      <td>0.452382</td>\n",
       "      <td>0.052699</td>\n",
       "      <td>0.080254</td>\n",
       "      <td>0.085365</td>\n",
       "      <td>0.091276</td>\n",
       "      <td>0.074225</td>\n",
       "      <td>0.390621</td>\n",
       "    </tr>\n",
       "    <tr>\n",
       "      <td>4</td>\n",
       "      <td>663747</td>\n",
       "      <td>0.134849</td>\n",
       "      <td>0.243988</td>\n",
       "      <td>0.094033</td>\n",
       "      <td>0.114807</td>\n",
       "      <td>0.675981</td>\n",
       "      <td>0.101973</td>\n",
       "      <td>0.615643</td>\n",
       "      <td>0.181101</td>\n",
       "      <td>0.576949</td>\n",
       "      <td>0.038553</td>\n",
       "      <td>0.132477</td>\n",
       "      <td>0.072128</td>\n",
       "      <td>0.090521</td>\n",
       "      <td>0.046644</td>\n",
       "      <td>0.084912</td>\n",
       "    </tr>\n",
       "  </tbody>\n",
       "</table>\n",
       "</div>"
      ],
      "text/plain": [
       "   session_id        38       110       113       114       134       171  \\\n",
       "0      663721  0.516345  0.334139  0.117808  0.192034  0.166044  0.062586   \n",
       "1      663725  0.333441  0.402552  0.482265  0.267858  0.434700  0.043988   \n",
       "2      663737  0.740239  0.583387  0.218381  0.240490  0.523708  0.234834   \n",
       "3      663745  0.129626  0.177971  0.409716  0.325255  0.247367  0.815954   \n",
       "4      663747  0.134849  0.243988  0.094033  0.114807  0.675981  0.101973   \n",
       "\n",
       "        172       173       376       435       467       537       539  \\\n",
       "0  0.112790  0.117762  0.332700  0.074157  0.148214  0.069370  0.184168   \n",
       "1  0.294365  0.049546  0.289284  0.030338  0.064775  0.092184  0.081650   \n",
       "2  0.084508  0.037738  0.695474  0.032400  0.048913  0.686267  0.373256   \n",
       "3  0.116506  0.766250  0.452382  0.052699  0.080254  0.085365  0.091276   \n",
       "4  0.615643  0.181101  0.576949  0.038553  0.132477  0.072128  0.090521   \n",
       "\n",
       "        629       768  \n",
       "0  0.867604  0.078809  \n",
       "1  0.059350  0.068234  \n",
       "2  0.164449  0.506163  \n",
       "3  0.074225  0.390621  \n",
       "4  0.046644  0.084912  "
      ]
     },
     "execution_count": 8,
     "metadata": {},
     "output_type": "execute_result"
    }
   ],
   "source": [
    "input_path = '../datasets/'\n",
    "test_df = pd.read_csv(os.path.join(input_path, 'test.csv'))\n",
    "\n",
    "for model, col in zip(models, target_category_str):\n",
    "    test_df[col] = model.predict_proba(test_X)[:,1]\n",
    "test_df.head()\n"
   ]
  },
  {
   "cell_type": "code",
   "execution_count": 9,
   "metadata": {},
   "outputs": [],
   "source": [
    "test_df.drop('session_id', axis=1, inplace=True)"
   ]
  },
  {
   "cell_type": "code",
   "execution_count": 10,
   "metadata": {},
   "outputs": [],
   "source": [
    "import datetime\n",
    "\n",
    "now = datetime.datetime.now()\n",
    "now = now.strftime(\"%m%d_%H%M\")\n",
    "# test_df.round(5).to_csv(f'../output/submission_{now}_cat.csv', index=None)\n",
    "test_df.round(5).to_csv(f'../pred/cat_{SEED}.csv', index=None)"
   ]
  },
  {
   "cell_type": "code",
   "execution_count": null,
   "metadata": {},
   "outputs": [],
   "source": []
  },
  {
   "cell_type": "code",
   "execution_count": null,
   "metadata": {},
   "outputs": [],
   "source": []
  }
 ],
 "metadata": {
  "kernelspec": {
   "display_name": "Python 3",
   "language": "python",
   "name": "python3"
  },
  "language_info": {
   "codemirror_mode": {
    "name": "ipython",
    "version": 3
   },
   "file_extension": ".py",
   "mimetype": "text/x-python",
   "name": "python",
   "nbconvert_exporter": "python",
   "pygments_lexer": "ipython3",
   "version": "3.8.3"
  }
 },
 "nbformat": 4,
 "nbformat_minor": 2
}
